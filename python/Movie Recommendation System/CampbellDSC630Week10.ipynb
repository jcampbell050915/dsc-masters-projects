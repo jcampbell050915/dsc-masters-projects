{
 "cells": [
  {
   "cell_type": "code",
   "execution_count": null,
   "id": "b8d551dc-f6ee-47f5-b21b-2ecd765fb306",
   "metadata": {},
   "outputs": [],
   "source": [
    "# Reference: https://analyticsindiamag.com/how-to-build-your-first-recommender-system-using-python-movielens-dataset/ "
   ]
  },
  {
   "cell_type": "code",
   "execution_count": 464,
   "id": "3057d2c9-1f38-458a-bec5-47642154c425",
   "metadata": {},
   "outputs": [],
   "source": [
    "import numpy as np\n",
    "import pandas as pd\n",
    "from tabulate import tabulate\n",
    "import warnings\n",
    "warnings.filterwarnings(\"ignore\")"
   ]
  },
  {
   "cell_type": "markdown",
   "id": "58e9fbfc-84f5-4ad7-8d96-f8a76edead2c",
   "metadata": {},
   "source": [
    "## Merge Dataset"
   ]
  },
  {
   "cell_type": "code",
   "execution_count": 250,
   "id": "9ff44064-6d7d-4eb1-aa81-7f6545976571",
   "metadata": {},
   "outputs": [],
   "source": [
    "# Download ratings\n",
    "data = pd.read_csv('data/ml-latest-small/ratings.csv')\n",
    "# Download movies\n",
    "movie_titles_genre = pd.read_csv(\"data/ml-latest-small/movies.csv\")\n",
    "# Merge datasets\n",
    "movie_ratings = data.merge(movie_titles_genre,on='movieId', how='left')"
   ]
  },
  {
   "cell_type": "markdown",
   "id": "07f32162-2c6d-46c3-8d75-bd5d67f4fc95",
   "metadata": {},
   "source": [
    "## Calculate new features"
   ]
  },
  {
   "cell_type": "markdown",
   "id": "2ea49652-f91b-43ee-8035-e0c7c709f99c",
   "metadata": {},
   "source": [
    "For easier data entry for the user, the movie title was split into two additional columns for a short form of the title and the year the movie was released. I also applied some formatting changes to have it print nicer for readability."
   ]
  },
  {
   "cell_type": "code",
   "execution_count": 437,
   "id": "8c026f0a-b2dd-42a3-9399-c2e0f2124afb",
   "metadata": {},
   "outputs": [],
   "source": [
    "# Create short movie title\n",
    "movie_ratings['title_short'] = movie_ratings['title'].str.split('(', 1).str[0].str.rstrip()"
   ]
  },
  {
   "cell_type": "code",
   "execution_count": 440,
   "id": "d8e22734-49b5-4904-847a-f8734e4756e2",
   "metadata": {},
   "outputs": [],
   "source": [
    "# Seperate year from title\n",
    "movie_ratings['year'] = movie_ratings['title'].str.split('(', 1).str[1].str.replace(')', '').str[-4:]"
   ]
  },
  {
   "cell_type": "code",
   "execution_count": 441,
   "id": "edf14b17-896b-42dd-96d2-385757f3b264",
   "metadata": {},
   "outputs": [],
   "source": [
    "# Add spaces to genres\n",
    "movie_ratings['genres'] = movie_ratings['genres'].str.replace('|', ' | ')"
   ]
  },
  {
   "cell_type": "markdown",
   "id": "f31163a5-045e-47e3-881a-107e345efcca",
   "metadata": {},
   "source": [
    "The average and count of ratings will be used as a reference point in the recommendation system."
   ]
  },
  {
   "cell_type": "code",
   "execution_count": 442,
   "id": "52b904b8-1f9f-43c3-9797-17e9df6f27b4",
   "metadata": {},
   "outputs": [],
   "source": [
    "# Calculate average rating score (out of 5)\n",
    "average_ratings = pd.DataFrame(movie_ratings.groupby(['title','title_short','year', 'genres'])['rating'].mean())"
   ]
  },
  {
   "cell_type": "code",
   "execution_count": 443,
   "id": "877b6bd9-25f0-4184-ae82-2f228a3fa3e9",
   "metadata": {},
   "outputs": [],
   "source": [
    "# Calculate total number of ratings\n",
    "average_ratings['total_ratings'] = pd.DataFrame(movie_ratings.groupby(['title','title_short','year', 'genres'])['rating'].count())"
   ]
  },
  {
   "cell_type": "markdown",
   "id": "377c2ade-d0be-4138-9dc5-0e02808f542f",
   "metadata": {},
   "source": [
    "## Pivot Table of Ratings by User"
   ]
  },
  {
   "cell_type": "markdown",
   "id": "d035742d-f397-433f-8415-fcc849f998ae",
   "metadata": {},
   "source": [
    "Pivot table was created to list the ratings per movie and user."
   ]
  },
  {
   "cell_type": "code",
   "execution_count": 444,
   "id": "1cffc5aa-ee73-4c11-8a61-22a76813bdba",
   "metadata": {},
   "outputs": [],
   "source": [
    "# Pivot table of movie rating by user\n",
    "movie_user = movie_ratings.pivot_table(index='userId',columns='title_short',values='rating')"
   ]
  },
  {
   "cell_type": "markdown",
   "id": "e95d91e1-ab19-4c46-84c1-dbb0c179956b",
   "metadata": {},
   "source": [
    "## Recommendation System"
   ]
  },
  {
   "cell_type": "markdown",
   "id": "16293792-ebb6-4ba3-9774-a70b641d122e",
   "metadata": {},
   "source": [
    "A function called recommendMovie() was created to start the program. It will prompt the user to enter a movie name in the short title form. The pivot table will be used to determine the selected movie's correlation to all other movies in the dataset. Once correlations are made, the average rating of the movies are joined to the recommendation. I have limited the movie responses to those that have had 100 ratings in order to have a wide variety of opinions on the movie before recommendation. The recommendations are then sorted and the top 10 are selected. The output is formatted and presented to the user."
   ]
  },
  {
   "cell_type": "code",
   "execution_count": 491,
   "id": "f41679b0-07e8-4a4d-a876-232032fb24fd",
   "metadata": {},
   "outputs": [],
   "source": [
    "def recommendMovie():\n",
    "    print(\"The movie recommendation system will allow you to look up recommendations based on a movie title in short form (without year).\\n\")\n",
    "    while True:\n",
    "        try:\n",
    "            # Get movie name from user\n",
    "            movie_name = input(\"Movie Name: \")\n",
    "            \n",
    "            # Get correlation to chosen movie name\n",
    "            correlations = movie_user.corrwith(movie_user[movie_name])\n",
    "\n",
    "            # Create dataframe with correlations\n",
    "            recommendation = pd.DataFrame(correlations,columns=['correlation'])\n",
    "            recommendation.dropna(inplace=True)\n",
    "            recommendation = recommendation.join(average_ratings)\n",
    "\n",
    "            # Find recommendations when 100 or more ratings\n",
    "            recc = recommendation[recommendation['total_ratings']>=100].sort_values('correlation',ascending=False).reset_index()\n",
    "\n",
    "            # Select top 10\n",
    "            top_10 = recc[['title_short', 'year', 'rating']][1:11]\n",
    "\n",
    "            # Round rating to two decimal points\n",
    "            top_10['rating'] = top_10['rating'].round(2)\n",
    "\n",
    "            print('\\nRecommended movies based on your interest in ' + movie_name + ':')\n",
    "            print(tabulate(top_10, headers=top_10.iloc[:0], tablefmt='fancy_grid'))\n",
    "        except:\n",
    "            print('\\nNo recommendation could be made. Please try a different title')\n",
    "            continue\n",
    "        break"
   ]
  },
  {
   "cell_type": "code",
   "execution_count": 492,
   "id": "bdb4c60e-8d0f-4148-94ce-c1d1fdd0c36d",
   "metadata": {},
   "outputs": [
    {
     "name": "stdout",
     "output_type": "stream",
     "text": [
      "The movie recommendation system will allow you to look up recommendations based on a movie title in short form (without year).\n",
      "\n"
     ]
    },
    {
     "name": "stdin",
     "output_type": "stream",
     "text": [
      "Movie Name:  Toy Story\n"
     ]
    },
    {
     "name": "stdout",
     "output_type": "stream",
     "text": [
      "\n",
      "Recommended movies based on your interest in Toy Story:\n",
      "╒════╤════════════════════════════╤════════╤══════════╕\n",
      "│    │ title_short                │   year │   rating │\n",
      "╞════╪════════════════════════════╪════════╪══════════╡\n",
      "│  1 │ Incredibles, The           │   2004 │     3.84 │\n",
      "├────┼────────────────────────────┼────────┼──────────┤\n",
      "│  2 │ Finding Nemo               │   2003 │     3.96 │\n",
      "├────┼────────────────────────────┼────────┼──────────┤\n",
      "│  3 │ Aladdin                    │   1992 │     3.79 │\n",
      "├────┼────────────────────────────┼────────┼──────────┤\n",
      "│  4 │ Monsters, Inc.             │   2001 │     3.87 │\n",
      "├────┼────────────────────────────┼────────┼──────────┤\n",
      "│  5 │ Mrs. Doubtfire             │   1993 │     3.39 │\n",
      "├────┼────────────────────────────┼────────┼──────────┤\n",
      "│  6 │ Amelie                     │   2001 │     4.18 │\n",
      "├────┼────────────────────────────┼────────┼──────────┤\n",
      "│  7 │ American Pie               │   1999 │     3.38 │\n",
      "├────┼────────────────────────────┼────────┼──────────┤\n",
      "│  8 │ Die Hard: With a Vengeance │   1995 │     3.56 │\n",
      "├────┼────────────────────────────┼────────┼──────────┤\n",
      "│  9 │ E.T. the Extra-Terrestrial │   1982 │     3.77 │\n",
      "├────┼────────────────────────────┼────────┼──────────┤\n",
      "│ 10 │ Home Alone                 │   1990 │     3    │\n",
      "╘════╧════════════════════════════╧════════╧══════════╛\n"
     ]
    }
   ],
   "source": [
    "# Run this to utilize the system\n",
    "recommendMovie()"
   ]
  }
 ],
 "metadata": {
  "kernelspec": {
   "display_name": "Python 3 (ipykernel)",
   "language": "python",
   "name": "python3"
  },
  "language_info": {
   "codemirror_mode": {
    "name": "ipython",
    "version": 3
   },
   "file_extension": ".py",
   "mimetype": "text/x-python",
   "name": "python",
   "nbconvert_exporter": "python",
   "pygments_lexer": "ipython3",
   "version": "3.9.13"
  }
 },
 "nbformat": 4,
 "nbformat_minor": 5
}
