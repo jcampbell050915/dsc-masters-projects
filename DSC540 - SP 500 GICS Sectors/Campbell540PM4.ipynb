{
 "cells": [
  {
   "cell_type": "markdown",
   "id": "5f0ce3f1-9516-4af4-a77d-07d2a46ef035",
   "metadata": {},
   "source": [
    "# Milestone 4: Marketstack Historical Data API"
   ]
  },
  {
   "cell_type": "code",
   "execution_count": 92,
   "id": "f117928d-2c1c-400a-a582-131a9e2c58b8",
   "metadata": {},
   "outputs": [],
   "source": [
    "# Import libaries\n",
    "import http.client\n",
    "import urllib.error\n",
    "import json\n",
    "import pandas as pd\n",
    "from bs4 import BeautifulSoup\n",
    "import requests\n",
    "import seaborn as sns"
   ]
  },
  {
   "cell_type": "code",
   "execution_count": 57,
   "id": "5d3a14b0-8edf-4b79-b04d-7aefbcefa419",
   "metadata": {},
   "outputs": [],
   "source": [
    "# Get access key\n",
    "with open('MarketStackAPIkeys.json') as f:\n",
    "    key = json.load(f)\n",
    "    access_key = key['access_key']"
   ]
  },
  {
   "cell_type": "code",
   "execution_count": 147,
   "id": "d96ae6ae-532d-4729-9fb6-3de59bf621c4",
   "metadata": {},
   "outputs": [],
   "source": [
    "# Get individual stock data\n",
    "def getStockData(frames, ticker):\n",
    "    try:    \n",
    "        # Connect to Marketstack API\n",
    "        conn = http.client.HTTPConnection(\"api.marketstack.com\")\n",
    "        # Pull data by stock ticker from the end of December 2021\n",
    "        conn.request(\"GET\", \"/v1/eod?access_key=\" + access_key + \"&symbols=\"+ ticker +\"&%20date_from=2021-12-31&date_to=2021-12-31\")\n",
    "\n",
    "        # read and parse response\n",
    "        res = conn.getresponse()\n",
    "        data = res.read()\n",
    "        stock = json.loads(data)\n",
    "\n",
    "        # if valid, parse and add data to df\n",
    "        if(res.status == 200):\n",
    "            stock_df = pd.DataFrame(stock['data'])\n",
    "            frames.append(stock_df)\n",
    "        else:\n",
    "            print(\"Error: \",stock['Error'])\n",
    "\n",
    "    # print any URL error\n",
    "    except urllib.error.URLError as e:\n",
    "        print(e)\n",
    "        print(\"ERROR: {}\".format(e.reason))    "
   ]
  },
  {
   "cell_type": "code",
   "execution_count": 111,
   "id": "60d5f4b0-cb7f-4cc9-9db6-89c3e27d2f12",
   "metadata": {},
   "outputs": [],
   "source": [
    "# Find and combine all stock data\n",
    "def createDF(tickers):\n",
    "    frames = []\n",
    "    # for each ticker in list\n",
    "    for t in tickers:\n",
    "        # Find associated stock data\n",
    "        getStockData(frames, t)\n",
    "    # add all calls to one dataframe\n",
    "    stock_df = pd.concat(frames)\n",
    "    return stock_df"
   ]
  },
  {
   "cell_type": "code",
   "execution_count": 104,
   "id": "cfb6495f-a34d-47aa-aa67-58618a8e6ecf",
   "metadata": {},
   "outputs": [
    {
     "data": {
      "text/html": [
       "<div>\n",
       "<style scoped>\n",
       "    .dataframe tbody tr th:only-of-type {\n",
       "        vertical-align: middle;\n",
       "    }\n",
       "\n",
       "    .dataframe tbody tr th {\n",
       "        vertical-align: top;\n",
       "    }\n",
       "\n",
       "    .dataframe thead th {\n",
       "        text-align: right;\n",
       "    }\n",
       "</style>\n",
       "<table border=\"1\" class=\"dataframe\">\n",
       "  <thead>\n",
       "    <tr style=\"text-align: right;\">\n",
       "      <th></th>\n",
       "      <th>Symbol</th>\n",
       "      <th>Security</th>\n",
       "      <th>GICS Sector</th>\n",
       "      <th>GICS Sub-Industry</th>\n",
       "      <th>Headquarters Location</th>\n",
       "      <th>Date added</th>\n",
       "      <th>CIK</th>\n",
       "      <th>Founded</th>\n",
       "    </tr>\n",
       "  </thead>\n",
       "  <tbody>\n",
       "    <tr>\n",
       "      <th>0</th>\n",
       "      <td>MMM</td>\n",
       "      <td>3M</td>\n",
       "      <td>Industrials</td>\n",
       "      <td>Industrial Conglomerates</td>\n",
       "      <td>Saint Paul, Minnesota</td>\n",
       "      <td>1976-08-09</td>\n",
       "      <td>0000066740</td>\n",
       "      <td>1902</td>\n",
       "    </tr>\n",
       "    <tr>\n",
       "      <th>1</th>\n",
       "      <td>AOS</td>\n",
       "      <td>A. O. Smith</td>\n",
       "      <td>Industrials</td>\n",
       "      <td>Building Products</td>\n",
       "      <td>Milwaukee, Wisconsin</td>\n",
       "      <td>2017-07-26</td>\n",
       "      <td>0000091142</td>\n",
       "      <td>1916</td>\n",
       "    </tr>\n",
       "    <tr>\n",
       "      <th>2</th>\n",
       "      <td>ABT</td>\n",
       "      <td>Abbott</td>\n",
       "      <td>Health Care</td>\n",
       "      <td>Health Care Equipment</td>\n",
       "      <td>North Chicago, Illinois</td>\n",
       "      <td>1964-03-31</td>\n",
       "      <td>0000001800</td>\n",
       "      <td>1888</td>\n",
       "    </tr>\n",
       "    <tr>\n",
       "      <th>3</th>\n",
       "      <td>ABBV</td>\n",
       "      <td>AbbVie</td>\n",
       "      <td>Health Care</td>\n",
       "      <td>Pharmaceuticals</td>\n",
       "      <td>North Chicago, Illinois</td>\n",
       "      <td>2012-12-31</td>\n",
       "      <td>0001551152</td>\n",
       "      <td>2013 (1888)</td>\n",
       "    </tr>\n",
       "    <tr>\n",
       "      <th>4</th>\n",
       "      <td>ACN</td>\n",
       "      <td>Accenture</td>\n",
       "      <td>Information Technology</td>\n",
       "      <td>IT Consulting &amp; Other Services</td>\n",
       "      <td>Dublin, Ireland</td>\n",
       "      <td>2011-07-06</td>\n",
       "      <td>0001467373</td>\n",
       "      <td>1989</td>\n",
       "    </tr>\n",
       "  </tbody>\n",
       "</table>\n",
       "</div>"
      ],
      "text/plain": [
       "  Symbol     Security             GICS Sector               GICS Sub-Industry  \\\n",
       "0    MMM           3M             Industrials        Industrial Conglomerates   \n",
       "1    AOS  A. O. Smith             Industrials               Building Products   \n",
       "2    ABT       Abbott             Health Care           Health Care Equipment   \n",
       "3   ABBV       AbbVie             Health Care                 Pharmaceuticals   \n",
       "4    ACN    Accenture  Information Technology  IT Consulting & Other Services   \n",
       "\n",
       "     Headquarters Location  Date added         CIK      Founded  \n",
       "0    Saint Paul, Minnesota  1976-08-09  0000066740         1902  \n",
       "1     Milwaukee, Wisconsin  2017-07-26  0000091142         1916  \n",
       "2  North Chicago, Illinois  1964-03-31  0000001800         1888  \n",
       "3  North Chicago, Illinois  2012-12-31  0001551152  2013 (1888)  \n",
       "4          Dublin, Ireland  2011-07-06  0001467373         1989  "
      ]
     },
     "execution_count": 104,
     "metadata": {},
     "output_type": "execute_result"
    }
   ],
   "source": [
    "### Find Stock Tickers (Raw Milestone 3 Data)\n",
    "html_document = requests.get('https://en.wikipedia.org/wiki/List_of_S%26P_500_companies#:~:text=S%26P%20500%20component%20stocks%20%20%20%20Symbol,%20%20%20%2014%20more%20rows%20')\n",
    "soup = BeautifulSoup(html_document.text, 'html.parser')\n",
    "table = soup.find_all('table', {'id':'constituents'})\n",
    "headers = [th.getText().strip() for th in table[0].findAll('th')]\n",
    "rows = table[0].findAll('tr')[1:]\n",
    "row_data = [[td.text.strip() for td in tr.findAll('td')] for tr in rows]\n",
    "sp_table = pd.DataFrame(row_data, columns=headers)\n",
    "sp_table = pd.DataFrame(row_data, columns=headers)\n",
    "sp_table.head()"
   ]
  },
  {
   "cell_type": "code",
   "execution_count": 813,
   "id": "a43e2e60-c2db-42d9-a59e-16950c6a7c6c",
   "metadata": {},
   "outputs": [
    {
     "data": {
      "text/html": [
       "<div>\n",
       "<style scoped>\n",
       "    .dataframe tbody tr th:only-of-type {\n",
       "        vertical-align: middle;\n",
       "    }\n",
       "\n",
       "    .dataframe tbody tr th {\n",
       "        vertical-align: top;\n",
       "    }\n",
       "\n",
       "    .dataframe thead th {\n",
       "        text-align: right;\n",
       "    }\n",
       "</style>\n",
       "<table border=\"1\" class=\"dataframe\">\n",
       "  <thead>\n",
       "    <tr style=\"text-align: right;\">\n",
       "      <th></th>\n",
       "      <th>open</th>\n",
       "      <th>high</th>\n",
       "      <th>low</th>\n",
       "      <th>close</th>\n",
       "      <th>volume</th>\n",
       "      <th>adj_high</th>\n",
       "      <th>adj_low</th>\n",
       "      <th>adj_close</th>\n",
       "      <th>adj_open</th>\n",
       "      <th>adj_volume</th>\n",
       "      <th>split_factor</th>\n",
       "      <th>dividend</th>\n",
       "      <th>symbol</th>\n",
       "      <th>exchange</th>\n",
       "      <th>date</th>\n",
       "    </tr>\n",
       "  </thead>\n",
       "  <tbody>\n",
       "    <tr>\n",
       "      <th>0</th>\n",
       "      <td>177.53</td>\n",
       "      <td>178.35</td>\n",
       "      <td>176.5100</td>\n",
       "      <td>177.63</td>\n",
       "      <td>1414600.0</td>\n",
       "      <td>None</td>\n",
       "      <td>None</td>\n",
       "      <td>177.63</td>\n",
       "      <td>None</td>\n",
       "      <td>None</td>\n",
       "      <td>1.0</td>\n",
       "      <td>0.0</td>\n",
       "      <td>MMM</td>\n",
       "      <td>XNYS</td>\n",
       "      <td>2021-12-31T00:00:00+0000</td>\n",
       "    </tr>\n",
       "    <tr>\n",
       "      <th>1</th>\n",
       "      <td>85.13</td>\n",
       "      <td>86.25</td>\n",
       "      <td>85.1300</td>\n",
       "      <td>85.85</td>\n",
       "      <td>966600.0</td>\n",
       "      <td>None</td>\n",
       "      <td>None</td>\n",
       "      <td>85.85</td>\n",
       "      <td>None</td>\n",
       "      <td>None</td>\n",
       "      <td>1.0</td>\n",
       "      <td>0.0</td>\n",
       "      <td>AOS</td>\n",
       "      <td>XNYS</td>\n",
       "      <td>2021-12-31T00:00:00+0000</td>\n",
       "    </tr>\n",
       "    <tr>\n",
       "      <th>2</th>\n",
       "      <td>141.00</td>\n",
       "      <td>141.77</td>\n",
       "      <td>140.7200</td>\n",
       "      <td>140.74</td>\n",
       "      <td>3271000.0</td>\n",
       "      <td>None</td>\n",
       "      <td>None</td>\n",
       "      <td>140.74</td>\n",
       "      <td>None</td>\n",
       "      <td>None</td>\n",
       "      <td>1.0</td>\n",
       "      <td>0.0</td>\n",
       "      <td>ABT</td>\n",
       "      <td>XNYS</td>\n",
       "      <td>2021-12-31T00:00:00+0000</td>\n",
       "    </tr>\n",
       "    <tr>\n",
       "      <th>3</th>\n",
       "      <td>136.04</td>\n",
       "      <td>136.21</td>\n",
       "      <td>135.3000</td>\n",
       "      <td>135.40</td>\n",
       "      <td>3962700.0</td>\n",
       "      <td>None</td>\n",
       "      <td>None</td>\n",
       "      <td>135.40</td>\n",
       "      <td>None</td>\n",
       "      <td>None</td>\n",
       "      <td>1.0</td>\n",
       "      <td>0.0</td>\n",
       "      <td>ABBV</td>\n",
       "      <td>XNYS</td>\n",
       "      <td>2021-12-31T00:00:00+0000</td>\n",
       "    </tr>\n",
       "    <tr>\n",
       "      <th>4</th>\n",
       "      <td>412.70</td>\n",
       "      <td>416.95</td>\n",
       "      <td>412.1096</td>\n",
       "      <td>414.55</td>\n",
       "      <td>1163448.0</td>\n",
       "      <td>None</td>\n",
       "      <td>None</td>\n",
       "      <td>414.55</td>\n",
       "      <td>None</td>\n",
       "      <td>None</td>\n",
       "      <td>1.0</td>\n",
       "      <td>0.0</td>\n",
       "      <td>ACN</td>\n",
       "      <td>XNYS</td>\n",
       "      <td>2021-12-31T00:00:00+0000</td>\n",
       "    </tr>\n",
       "  </tbody>\n",
       "</table>\n",
       "</div>"
      ],
      "text/plain": [
       "     open    high       low   close     volume adj_high adj_low  adj_close  \\\n",
       "0  177.53  178.35  176.5100  177.63  1414600.0     None    None     177.63   \n",
       "1   85.13   86.25   85.1300   85.85   966600.0     None    None      85.85   \n",
       "2  141.00  141.77  140.7200  140.74  3271000.0     None    None     140.74   \n",
       "3  136.04  136.21  135.3000  135.40  3962700.0     None    None     135.40   \n",
       "4  412.70  416.95  412.1096  414.55  1163448.0     None    None     414.55   \n",
       "\n",
       "  adj_open adj_volume  split_factor  dividend symbol exchange  \\\n",
       "0     None       None           1.0       0.0    MMM     XNYS   \n",
       "1     None       None           1.0       0.0    AOS     XNYS   \n",
       "2     None       None           1.0       0.0    ABT     XNYS   \n",
       "3     None       None           1.0       0.0   ABBV     XNYS   \n",
       "4     None       None           1.0       0.0    ACN     XNYS   \n",
       "\n",
       "                       date  \n",
       "0  2021-12-31T00:00:00+0000  \n",
       "1  2021-12-31T00:00:00+0000  \n",
       "2  2021-12-31T00:00:00+0000  \n",
       "3  2021-12-31T00:00:00+0000  \n",
       "4  2021-12-31T00:00:00+0000  "
      ]
     },
     "execution_count": 813,
     "metadata": {},
     "output_type": "execute_result"
    }
   ],
   "source": [
    "# Grab data through API call\n",
    "stock_df = createDF(list(sp_table.Symbol))\n",
    "# Reset index\n",
    "stock_df.reset_index(inplace = True)\n",
    "stock_df.head()"
   ]
  },
  {
   "cell_type": "code",
   "execution_count": 14,
   "id": "eef5007a-b534-42ae-a17b-153b941902af",
   "metadata": {},
   "outputs": [
    {
     "data": {
      "text/html": [
       "<div>\n",
       "<style scoped>\n",
       "    .dataframe tbody tr th:only-of-type {\n",
       "        vertical-align: middle;\n",
       "    }\n",
       "\n",
       "    .dataframe tbody tr th {\n",
       "        vertical-align: top;\n",
       "    }\n",
       "\n",
       "    .dataframe thead th {\n",
       "        text-align: right;\n",
       "    }\n",
       "</style>\n",
       "<table border=\"1\" class=\"dataframe\">\n",
       "  <thead>\n",
       "    <tr style=\"text-align: right;\">\n",
       "      <th></th>\n",
       "      <th>open</th>\n",
       "      <th>high</th>\n",
       "      <th>low</th>\n",
       "      <th>close</th>\n",
       "      <th>volume</th>\n",
       "      <th>adj_high</th>\n",
       "      <th>adj_low</th>\n",
       "      <th>adj_close</th>\n",
       "      <th>adj_open</th>\n",
       "      <th>adj_volume</th>\n",
       "      <th>split_factor</th>\n",
       "      <th>dividend</th>\n",
       "    </tr>\n",
       "  </thead>\n",
       "  <tbody>\n",
       "    <tr>\n",
       "      <th>count</th>\n",
       "      <td>493.000000</td>\n",
       "      <td>493.000000</td>\n",
       "      <td>493.000000</td>\n",
       "      <td>493.000000</td>\n",
       "      <td>4.930000e+02</td>\n",
       "      <td>1.000</td>\n",
       "      <td>1.0000</td>\n",
       "      <td>493.000000</td>\n",
       "      <td>1.000</td>\n",
       "      <td>1.0</td>\n",
       "      <td>493.0</td>\n",
       "      <td>493.0</td>\n",
       "    </tr>\n",
       "    <tr>\n",
       "      <th>mean</th>\n",
       "      <td>218.797840</td>\n",
       "      <td>220.804978</td>\n",
       "      <td>217.680395</td>\n",
       "      <td>218.969148</td>\n",
       "      <td>2.652779e+06</td>\n",
       "      <td>146.365</td>\n",
       "      <td>144.6775</td>\n",
       "      <td>213.393265</td>\n",
       "      <td>145.544</td>\n",
       "      <td>16941540.0</td>\n",
       "      <td>1.0</td>\n",
       "      <td>0.0</td>\n",
       "    </tr>\n",
       "    <tr>\n",
       "      <th>std</th>\n",
       "      <td>410.958724</td>\n",
       "      <td>413.541963</td>\n",
       "      <td>408.183855</td>\n",
       "      <td>410.538895</td>\n",
       "      <td>5.864088e+06</td>\n",
       "      <td>NaN</td>\n",
       "      <td>NaN</td>\n",
       "      <td>392.405934</td>\n",
       "      <td>NaN</td>\n",
       "      <td>NaN</td>\n",
       "      <td>0.0</td>\n",
       "      <td>0.0</td>\n",
       "    </tr>\n",
       "    <tr>\n",
       "      <th>min</th>\n",
       "      <td>11.920000</td>\n",
       "      <td>12.050000</td>\n",
       "      <td>11.920000</td>\n",
       "      <td>12.010000</td>\n",
       "      <td>6.300000e+03</td>\n",
       "      <td>146.365</td>\n",
       "      <td>144.6775</td>\n",
       "      <td>12.010000</td>\n",
       "      <td>145.544</td>\n",
       "      <td>16941540.0</td>\n",
       "      <td>1.0</td>\n",
       "      <td>0.0</td>\n",
       "    </tr>\n",
       "    <tr>\n",
       "      <th>25%</th>\n",
       "      <td>65.780000</td>\n",
       "      <td>66.400000</td>\n",
       "      <td>65.690000</td>\n",
       "      <td>66.310000</td>\n",
       "      <td>5.250000e+05</td>\n",
       "      <td>146.365</td>\n",
       "      <td>144.6775</td>\n",
       "      <td>66.310000</td>\n",
       "      <td>145.544</td>\n",
       "      <td>16941540.0</td>\n",
       "      <td>1.0</td>\n",
       "      <td>0.0</td>\n",
       "    </tr>\n",
       "    <tr>\n",
       "      <th>50%</th>\n",
       "      <td>119.470000</td>\n",
       "      <td>121.390000</td>\n",
       "      <td>119.360000</td>\n",
       "      <td>120.910000</td>\n",
       "      <td>1.005800e+06</td>\n",
       "      <td>146.365</td>\n",
       "      <td>144.6775</td>\n",
       "      <td>120.910000</td>\n",
       "      <td>145.544</td>\n",
       "      <td>16941540.0</td>\n",
       "      <td>1.0</td>\n",
       "      <td>0.0</td>\n",
       "    </tr>\n",
       "    <tr>\n",
       "      <th>75%</th>\n",
       "      <td>233.080000</td>\n",
       "      <td>235.770000</td>\n",
       "      <td>233.080000</td>\n",
       "      <td>234.590000</td>\n",
       "      <td>2.386069e+06</td>\n",
       "      <td>146.365</td>\n",
       "      <td>144.6775</td>\n",
       "      <td>233.770000</td>\n",
       "      <td>145.544</td>\n",
       "      <td>16941540.0</td>\n",
       "      <td>1.0</td>\n",
       "      <td>0.0</td>\n",
       "    </tr>\n",
       "    <tr>\n",
       "      <th>max</th>\n",
       "      <td>5884.100100</td>\n",
       "      <td>5917.700200</td>\n",
       "      <td>5850.500000</td>\n",
       "      <td>5908.870100</td>\n",
       "      <td>6.406226e+07</td>\n",
       "      <td>146.365</td>\n",
       "      <td>144.6775</td>\n",
       "      <td>5908.870100</td>\n",
       "      <td>145.544</td>\n",
       "      <td>16941540.0</td>\n",
       "      <td>1.0</td>\n",
       "      <td>0.0</td>\n",
       "    </tr>\n",
       "  </tbody>\n",
       "</table>\n",
       "</div>"
      ],
      "text/plain": [
       "              open         high          low        close        volume  \\\n",
       "count   493.000000   493.000000   493.000000   493.000000  4.930000e+02   \n",
       "mean    218.797840   220.804978   217.680395   218.969148  2.652779e+06   \n",
       "std     410.958724   413.541963   408.183855   410.538895  5.864088e+06   \n",
       "min      11.920000    12.050000    11.920000    12.010000  6.300000e+03   \n",
       "25%      65.780000    66.400000    65.690000    66.310000  5.250000e+05   \n",
       "50%     119.470000   121.390000   119.360000   120.910000  1.005800e+06   \n",
       "75%     233.080000   235.770000   233.080000   234.590000  2.386069e+06   \n",
       "max    5884.100100  5917.700200  5850.500000  5908.870100  6.406226e+07   \n",
       "\n",
       "       adj_high   adj_low    adj_close  adj_open  adj_volume  split_factor  \\\n",
       "count     1.000    1.0000   493.000000     1.000         1.0         493.0   \n",
       "mean    146.365  144.6775   213.393265   145.544  16941540.0           1.0   \n",
       "std         NaN       NaN   392.405934       NaN         NaN           0.0   \n",
       "min     146.365  144.6775    12.010000   145.544  16941540.0           1.0   \n",
       "25%     146.365  144.6775    66.310000   145.544  16941540.0           1.0   \n",
       "50%     146.365  144.6775   120.910000   145.544  16941540.0           1.0   \n",
       "75%     146.365  144.6775   233.770000   145.544  16941540.0           1.0   \n",
       "max     146.365  144.6775  5908.870100   145.544  16941540.0           1.0   \n",
       "\n",
       "       dividend  \n",
       "count     493.0  \n",
       "mean        0.0  \n",
       "std         0.0  \n",
       "min         0.0  \n",
       "25%         0.0  \n",
       "50%         0.0  \n",
       "75%         0.0  \n",
       "max         0.0  "
      ]
     },
     "execution_count": 14,
     "metadata": {},
     "output_type": "execute_result"
    }
   ],
   "source": [
    "stock_df.describe()"
   ]
  },
  {
   "cell_type": "markdown",
   "id": "8ba0a2b6-8d57-42da-b5be-5b01ce436153",
   "metadata": {},
   "source": [
    "# Cleaning Steps"
   ]
  },
  {
   "cell_type": "markdown",
   "id": "295ddb1a-7f14-4550-9533-4c7a2b9ed021",
   "metadata": {},
   "source": [
    "## Step 1: Replace measurements with adjusted values"
   ]
  },
  {
   "cell_type": "code",
   "execution_count": 135,
   "id": "b2838536-7419-402f-ab53-51e5cbf54853",
   "metadata": {},
   "outputs": [
    {
     "name": "stdout",
     "output_type": "stream",
     "text": [
      "1 values replaced in high\n",
      "1 values replaced in low\n",
      "493 values replaced in close\n",
      "1 values replaced in volume\n"
     ]
    },
    {
     "name": "stderr",
     "output_type": "stream",
     "text": [
      "C:\\Users\\jcamp\\AppData\\Local\\Temp\\ipykernel_5908\\1171294771.py:13: SettingWithCopyWarning: \n",
      "A value is trying to be set on a copy of a slice from a DataFrame\n",
      "\n",
      "See the caveats in the documentation: https://pandas.pydata.org/pandas-docs/stable/user_guide/indexing.html#returning-a-view-versus-a-copy\n",
      "  stock_df[i].loc[index] = value\n"
     ]
    }
   ],
   "source": [
    "# For the main stock measurements\n",
    "for i in stock_df.iloc[:, 1:5]:\n",
    "    count = 0\n",
    "    # for each of the adjusted measurements\n",
    "    for a in stock_df.iloc[:, 5:10]:\n",
    "        # Check if adjusted matches main name\n",
    "        if i in a:\n",
    "            # For each value in adjusted\n",
    "            for index, value in stock_df[a].iteritems():\n",
    "                # Check not null\n",
    "                if pd.notna(value):\n",
    "                    # Replace main value with adjusted\n",
    "                    stock_df[i].loc[index] = value\n",
    "                    count += 1\n",
    "            print(\"{} values replaced in {}\".format(count,i))"
   ]
  },
  {
   "cell_type": "markdown",
   "id": "508c1703-e7d3-4277-bf44-d75e3d548252",
   "metadata": {},
   "source": [
    "In Step 1, I replaced the main stock measurements with the adjusted values for a more accurate picture of the stock at this point in time."
   ]
  },
  {
   "cell_type": "markdown",
   "id": "3459b90c-5ad0-416f-a77d-f63e591d054a",
   "metadata": {},
   "source": [
    "## Step 2: Remove unnecessary columns"
   ]
  },
  {
   "cell_type": "code",
   "execution_count": 136,
   "id": "e6e7f6cb-be5b-4c76-b8a2-0fdb826d8102",
   "metadata": {},
   "outputs": [],
   "source": [
    "# Drop all columns with adjusted values, split factor, and dividends\n",
    "stock_df.drop(stock_df.columns[5:12], axis=1, inplace=True)"
   ]
  },
  {
   "cell_type": "markdown",
   "id": "56a5659c-7f04-4ed8-b8ca-00dd210a54b0",
   "metadata": {},
   "source": [
    "In step 2, I removed the adjusted values after copying and all unnecessary columns for analysis."
   ]
  },
  {
   "cell_type": "markdown",
   "id": "72551e17-cddd-4a4f-ab04-b950da716601",
   "metadata": {},
   "source": [
    "## Step 3: Reorder columns"
   ]
  },
  {
   "cell_type": "code",
   "execution_count": 137,
   "id": "6bfc63fe-8f47-4d06-8eec-ae0baba6fc38",
   "metadata": {},
   "outputs": [],
   "source": [
    "stockr_df = stock_df.reindex(columns= ['symbol', 'open', 'high', 'low', 'close', 'volume', 'exchange', 'date'])"
   ]
  },
  {
   "cell_type": "markdown",
   "id": "b99b4c12-b859-4d8d-aa5b-2a8b0e8b33ab",
   "metadata": {},
   "source": [
    "I reordered the columns to show the symbol that represents the company first as the primary descriptor."
   ]
  },
  {
   "cell_type": "markdown",
   "id": "8619c263-2e90-4193-a639-c66381894d8e",
   "metadata": {},
   "source": [
    "## Step 4: Remove time from Date"
   ]
  },
  {
   "cell_type": "code",
   "execution_count": 142,
   "id": "aed6b8d4-4730-4722-9c43-542edcaccf76",
   "metadata": {},
   "outputs": [],
   "source": [
    "stockr_df['date'] = pd.to_datetime(stockr_df['date'])\n",
    "stockr_df['date'] = stockr_df['date'].dt.date"
   ]
  },
  {
   "cell_type": "code",
   "execution_count": 81,
   "id": "9992f9d5-1a65-4e78-9559-b075c9b83efe",
   "metadata": {},
   "outputs": [
    {
     "data": {
      "text/plain": [
       "dtype('O')"
      ]
     },
     "execution_count": 81,
     "metadata": {},
     "output_type": "execute_result"
    }
   ],
   "source": [
    "stockr_df['date'].dtype"
   ]
  },
  {
   "cell_type": "markdown",
   "id": "28e4c188-1df4-4b4e-b2f1-76fcef2eec65",
   "metadata": {},
   "source": [
    "In Step 4, I removed the time from the date as it doesn't have any impact on the record."
   ]
  },
  {
   "cell_type": "markdown",
   "id": "611623cf-19eb-46fb-88a0-f60adb92c8e1",
   "metadata": {},
   "source": [
    "## Step 5: Check for Outliers"
   ]
  },
  {
   "cell_type": "markdown",
   "id": "ce8268c8-4f4b-4b81-800c-41a8dbc975ae",
   "metadata": {},
   "source": [
    "### Open"
   ]
  },
  {
   "cell_type": "code",
   "execution_count": 143,
   "id": "48031b83-5043-480f-82c7-3de0b6cd5715",
   "metadata": {},
   "outputs": [
    {
     "data": {
      "text/plain": [
       "<seaborn.axisgrid.FacetGrid at 0x184adf2d940>"
      ]
     },
     "execution_count": 143,
     "metadata": {},
     "output_type": "execute_result"
    },
    {
     "data": {
      "image/png": "[encoded data removed]",
      "text/plain": [
       "<Figure size 500x500 with 1 Axes>"
      ]
     },
     "metadata": {},
     "output_type": "display_data"
    }
   ],
   "source": [
    "sns.displot(stockr_df['open'], kde = True, bins = 12).set(title='Open Histogram') "
   ]
  },
  {
   "cell_type": "code",
   "execution_count": 144,
   "id": "eb2610de-12f7-4616-82dd-8920b560e6bf",
   "metadata": {},
   "outputs": [
    {
     "data": {
      "text/html": [
       "<div>\n",
       "<style scoped>\n",
       "    .dataframe tbody tr th:only-of-type {\n",
       "        vertical-align: middle;\n",
       "    }\n",
       "\n",
       "    .dataframe tbody tr th {\n",
       "        vertical-align: top;\n",
       "    }\n",
       "\n",
       "    .dataframe thead th {\n",
       "        text-align: right;\n",
       "    }\n",
       "</style>\n",
       "<table border=\"1\" class=\"dataframe\">\n",
       "  <thead>\n",
       "    <tr style=\"text-align: right;\">\n",
       "      <th></th>\n",
       "      <th>symbol</th>\n",
       "      <th>open</th>\n",
       "      <th>high</th>\n",
       "      <th>low</th>\n",
       "      <th>close</th>\n",
       "      <th>volume</th>\n",
       "      <th>exchange</th>\n",
       "      <th>date</th>\n",
       "    </tr>\n",
       "  </thead>\n",
       "  <tbody>\n",
       "    <tr>\n",
       "      <th>22</th>\n",
       "      <td>GOOGL</td>\n",
       "      <td>2921.0000</td>\n",
       "      <td>2933.9700</td>\n",
       "      <td>2897.0400</td>\n",
       "      <td>2897.0400</td>\n",
       "      <td>906200.0</td>\n",
       "      <td>XNAS</td>\n",
       "      <td>2021-12-31</td>\n",
       "    </tr>\n",
       "    <tr>\n",
       "      <th>23</th>\n",
       "      <td>GOOG</td>\n",
       "      <td>2910.8800</td>\n",
       "      <td>146.3650</td>\n",
       "      <td>144.6775</td>\n",
       "      <td>144.6795</td>\n",
       "      <td>16941540.0</td>\n",
       "      <td>XNAS</td>\n",
       "      <td>2021-12-31</td>\n",
       "    </tr>\n",
       "    <tr>\n",
       "      <th>25</th>\n",
       "      <td>AMZN</td>\n",
       "      <td>3379.1201</td>\n",
       "      <td>3387.0000</td>\n",
       "      <td>3331.1699</td>\n",
       "      <td>3334.3401</td>\n",
       "      <td>2387300.0</td>\n",
       "      <td>XNAS</td>\n",
       "      <td>2021-12-31</td>\n",
       "    </tr>\n",
       "    <tr>\n",
       "      <th>54</th>\n",
       "      <td>AZO</td>\n",
       "      <td>2083.6899</td>\n",
       "      <td>2107.8999</td>\n",
       "      <td>2069.3701</td>\n",
       "      <td>2096.3899</td>\n",
       "      <td>105700.0</td>\n",
       "      <td>XNYS</td>\n",
       "      <td>2021-12-31</td>\n",
       "    </tr>\n",
       "    <tr>\n",
       "      <th>70</th>\n",
       "      <td>BKNG</td>\n",
       "      <td>2391.1499</td>\n",
       "      <td>2417.4199</td>\n",
       "      <td>2383.7500</td>\n",
       "      <td>2399.2300</td>\n",
       "      <td>182300.0</td>\n",
       "      <td>XNAS</td>\n",
       "      <td>2021-12-31</td>\n",
       "    </tr>\n",
       "    <tr>\n",
       "      <th>102</th>\n",
       "      <td>CMG</td>\n",
       "      <td>1746.0900</td>\n",
       "      <td>1761.8900</td>\n",
       "      <td>1744.1300</td>\n",
       "      <td>1748.2500</td>\n",
       "      <td>104300.0</td>\n",
       "      <td>XNYS</td>\n",
       "      <td>2021-12-31</td>\n",
       "    </tr>\n",
       "    <tr>\n",
       "      <th>306</th>\n",
       "      <td>MTD</td>\n",
       "      <td>1699.4900</td>\n",
       "      <td>1710.9600</td>\n",
       "      <td>1696.9000</td>\n",
       "      <td>1697.2100</td>\n",
       "      <td>51900.0</td>\n",
       "      <td>XNYS</td>\n",
       "      <td>2021-12-31</td>\n",
       "    </tr>\n",
       "    <tr>\n",
       "      <th>342</th>\n",
       "      <td>NVR</td>\n",
       "      <td>5884.1001</td>\n",
       "      <td>5917.7002</td>\n",
       "      <td>5850.5000</td>\n",
       "      <td>5908.8701</td>\n",
       "      <td>6300.0</td>\n",
       "      <td>XNYS</td>\n",
       "      <td>2021-12-31</td>\n",
       "    </tr>\n",
       "    <tr>\n",
       "      <th>437</th>\n",
       "      <td>TSLA</td>\n",
       "      <td>1073.4399</td>\n",
       "      <td>1082.0000</td>\n",
       "      <td>1054.5900</td>\n",
       "      <td>1056.7800</td>\n",
       "      <td>13528700.0</td>\n",
       "      <td>XNAS</td>\n",
       "      <td>2021-12-31</td>\n",
       "    </tr>\n",
       "  </tbody>\n",
       "</table>\n",
       "</div>"
      ],
      "text/plain": [
       "    symbol       open       high        low      close      volume exchange  \\\n",
       "22   GOOGL  2921.0000  2933.9700  2897.0400  2897.0400    906200.0     XNAS   \n",
       "23    GOOG  2910.8800   146.3650   144.6775   144.6795  16941540.0     XNAS   \n",
       "25    AMZN  3379.1201  3387.0000  3331.1699  3334.3401   2387300.0     XNAS   \n",
       "54     AZO  2083.6899  2107.8999  2069.3701  2096.3899    105700.0     XNYS   \n",
       "70    BKNG  2391.1499  2417.4199  2383.7500  2399.2300    182300.0     XNAS   \n",
       "102    CMG  1746.0900  1761.8900  1744.1300  1748.2500    104300.0     XNYS   \n",
       "306    MTD  1699.4900  1710.9600  1696.9000  1697.2100     51900.0     XNYS   \n",
       "342    NVR  5884.1001  5917.7002  5850.5000  5908.8701      6300.0     XNYS   \n",
       "437   TSLA  1073.4399  1082.0000  1054.5900  1056.7800  13528700.0     XNAS   \n",
       "\n",
       "           date  \n",
       "22   2021-12-31  \n",
       "23   2021-12-31  \n",
       "25   2021-12-31  \n",
       "54   2021-12-31  \n",
       "70   2021-12-31  \n",
       "102  2021-12-31  \n",
       "306  2021-12-31  \n",
       "342  2021-12-31  \n",
       "437  2021-12-31  "
      ]
     },
     "execution_count": 144,
     "metadata": {},
     "output_type": "execute_result"
    }
   ],
   "source": [
    "# Find data at the end of the tail (>1000)\n",
    "stockr_df[stockr_df.open > 1000]"
   ]
  },
  {
   "cell_type": "code",
   "execution_count": 145,
   "id": "791a6753-649d-438f-a2bd-d17ec799c3f1",
   "metadata": {},
   "outputs": [
    {
     "data": {
      "text/plain": [
       "symbol            GOOG\n",
       "open           2910.88\n",
       "high           2933.97\n",
       "low            2897.04\n",
       "close          2897.04\n",
       "volume      16941540.0\n",
       "exchange          XNAS\n",
       "date        2021-12-31\n",
       "Name: 23, dtype: object"
      ]
     },
     "execution_count": 145,
     "metadata": {},
     "output_type": "execute_result"
    }
   ],
   "source": [
    "# Outlier found for GOOG\n",
    "# Copy high, low, and close from GOOGL affiliated stock as reference point\n",
    "stockr_df.at[23,'high'] = stockr_df.at[22,'high']\n",
    "stockr_df.at[23,'low'] = stockr_df.at[22,'low']\n",
    "stockr_df.at[23,'close'] = stockr_df.at[22,'close']\n",
    "stockr_df.iloc[23]"
   ]
  },
  {
   "cell_type": "markdown",
   "id": "f05696e6-7eac-49af-95eb-b8079d81c04e",
   "metadata": {},
   "source": [
    "### Close"
   ]
  },
  {
   "cell_type": "code",
   "execution_count": 146,
   "id": "4b181074-7b07-4b51-a641-18dd20533b6f",
   "metadata": {},
   "outputs": [
    {
     "data": {
      "text/plain": [
       "<seaborn.axisgrid.FacetGrid at 0x184adf537f0>"
      ]
     },
     "execution_count": 146,
     "metadata": {},
     "output_type": "execute_result"
    },
    {
     "data": {
      "image/png": "[encoded data removed]",
      "text/plain": [
       "<Figure size 500x500 with 1 Axes>"
      ]
     },
     "metadata": {},
     "output_type": "display_data"
    }
   ],
   "source": [
    "sns.displot(stockr_df['close'], kde = True, bins = 12).set(title='Close Histogram') "
   ]
  },
  {
   "cell_type": "code",
   "execution_count": 147,
   "id": "5228565e-4828-447b-9887-80af3ee6daa8",
   "metadata": {},
   "outputs": [
    {
     "data": {
      "text/html": [
       "<div>\n",
       "<style scoped>\n",
       "    .dataframe tbody tr th:only-of-type {\n",
       "        vertical-align: middle;\n",
       "    }\n",
       "\n",
       "    .dataframe tbody tr th {\n",
       "        vertical-align: top;\n",
       "    }\n",
       "\n",
       "    .dataframe thead th {\n",
       "        text-align: right;\n",
       "    }\n",
       "</style>\n",
       "<table border=\"1\" class=\"dataframe\">\n",
       "  <thead>\n",
       "    <tr style=\"text-align: right;\">\n",
       "      <th></th>\n",
       "      <th>symbol</th>\n",
       "      <th>open</th>\n",
       "      <th>high</th>\n",
       "      <th>low</th>\n",
       "      <th>close</th>\n",
       "      <th>volume</th>\n",
       "      <th>exchange</th>\n",
       "      <th>date</th>\n",
       "    </tr>\n",
       "  </thead>\n",
       "  <tbody>\n",
       "  </tbody>\n",
       "</table>\n",
       "</div>"
      ],
      "text/plain": [
       "Empty DataFrame\n",
       "Columns: [symbol, open, high, low, close, volume, exchange, date]\n",
       "Index: []"
      ]
     },
     "execution_count": 147,
     "metadata": {},
     "output_type": "execute_result"
    }
   ],
   "source": [
    "# Check outliers that were not already viewed in open\n",
    "stockr_df[(stockr_df.close > 1000) & (stockr_df.open < 1000)]"
   ]
  },
  {
   "cell_type": "markdown",
   "id": "c91f144c-984a-42a2-9cbf-beed26fae82f",
   "metadata": {},
   "source": [
    "### High"
   ]
  },
  {
   "cell_type": "code",
   "execution_count": 148,
   "id": "c8ff7e7a-8ccb-4f58-8a6f-bda34253d9e8",
   "metadata": {},
   "outputs": [
    {
     "data": {
      "text/plain": [
       "<seaborn.axisgrid.FacetGrid at 0x184adf1b580>"
      ]
     },
     "execution_count": 148,
     "metadata": {},
     "output_type": "execute_result"
    },
    {
     "data": {
      "image/png": "[encoded data removed]",
      "text/plain": [
       "<Figure size 500x500 with 1 Axes>"
      ]
     },
     "metadata": {},
     "output_type": "display_data"
    }
   ],
   "source": [
    "sns.displot(stockr_df['high'], kde = True, bins = 12).set(title='High Histogram') "
   ]
  },
  {
   "cell_type": "code",
   "execution_count": 149,
   "id": "f414e34c-70f4-4cb9-a22f-d4fb6e5e383c",
   "metadata": {},
   "outputs": [
    {
     "data": {
      "text/html": [
       "<div>\n",
       "<style scoped>\n",
       "    .dataframe tbody tr th:only-of-type {\n",
       "        vertical-align: middle;\n",
       "    }\n",
       "\n",
       "    .dataframe tbody tr th {\n",
       "        vertical-align: top;\n",
       "    }\n",
       "\n",
       "    .dataframe thead th {\n",
       "        text-align: right;\n",
       "    }\n",
       "</style>\n",
       "<table border=\"1\" class=\"dataframe\">\n",
       "  <thead>\n",
       "    <tr style=\"text-align: right;\">\n",
       "      <th></th>\n",
       "      <th>symbol</th>\n",
       "      <th>open</th>\n",
       "      <th>high</th>\n",
       "      <th>low</th>\n",
       "      <th>close</th>\n",
       "      <th>volume</th>\n",
       "      <th>exchange</th>\n",
       "      <th>date</th>\n",
       "    </tr>\n",
       "  </thead>\n",
       "  <tbody>\n",
       "  </tbody>\n",
       "</table>\n",
       "</div>"
      ],
      "text/plain": [
       "Empty DataFrame\n",
       "Columns: [symbol, open, high, low, close, volume, exchange, date]\n",
       "Index: []"
      ]
     },
     "execution_count": 149,
     "metadata": {},
     "output_type": "execute_result"
    }
   ],
   "source": [
    "# Check outliers that were not already viewed in open\n",
    "stockr_df[(stockr_df.high > 1000) & (stockr_df.open < 1000)]"
   ]
  },
  {
   "cell_type": "markdown",
   "id": "132f1845-c0a9-4af0-8b69-6bd38d3d2883",
   "metadata": {},
   "source": [
    "### Low"
   ]
  },
  {
   "cell_type": "code",
   "execution_count": 150,
   "id": "2f22a92a-285b-4b7e-becd-b5255af9be86",
   "metadata": {},
   "outputs": [
    {
     "data": {
      "text/plain": [
       "<seaborn.axisgrid.FacetGrid at 0x184af1eefd0>"
      ]
     },
     "execution_count": 150,
     "metadata": {},
     "output_type": "execute_result"
    },
    {
     "data": {
      "image/png": "[encoded data removed]",
      "text/plain": [
       "<Figure size 500x500 with 1 Axes>"
      ]
     },
     "metadata": {},
     "output_type": "display_data"
    }
   ],
   "source": [
    "sns.displot(stockr_df['low'], kde = True, bins = 12).set(title='Low Histogram') "
   ]
  },
  {
   "cell_type": "code",
   "execution_count": 151,
   "id": "34cd049b-7c0a-4a75-85ff-193e8484c204",
   "metadata": {},
   "outputs": [
    {
     "data": {
      "text/html": [
       "<div>\n",
       "<style scoped>\n",
       "    .dataframe tbody tr th:only-of-type {\n",
       "        vertical-align: middle;\n",
       "    }\n",
       "\n",
       "    .dataframe tbody tr th {\n",
       "        vertical-align: top;\n",
       "    }\n",
       "\n",
       "    .dataframe thead th {\n",
       "        text-align: right;\n",
       "    }\n",
       "</style>\n",
       "<table border=\"1\" class=\"dataframe\">\n",
       "  <thead>\n",
       "    <tr style=\"text-align: right;\">\n",
       "      <th></th>\n",
       "      <th>symbol</th>\n",
       "      <th>open</th>\n",
       "      <th>high</th>\n",
       "      <th>low</th>\n",
       "      <th>close</th>\n",
       "      <th>volume</th>\n",
       "      <th>exchange</th>\n",
       "      <th>date</th>\n",
       "    </tr>\n",
       "  </thead>\n",
       "  <tbody>\n",
       "  </tbody>\n",
       "</table>\n",
       "</div>"
      ],
      "text/plain": [
       "Empty DataFrame\n",
       "Columns: [symbol, open, high, low, close, volume, exchange, date]\n",
       "Index: []"
      ]
     },
     "execution_count": 151,
     "metadata": {},
     "output_type": "execute_result"
    }
   ],
   "source": [
    "# Check outliers that were not already viewed in open\n",
    "stockr_df[(stockr_df.low > 1000) & (stockr_df.open < 1000)]"
   ]
  },
  {
   "cell_type": "markdown",
   "id": "3e80503d-5835-4622-87a5-524b0ebd1ad3",
   "metadata": {},
   "source": [
    "### Close"
   ]
  },
  {
   "cell_type": "code",
   "execution_count": 152,
   "id": "a536c749-8c5e-4854-baef-2a190eab6ebe",
   "metadata": {},
   "outputs": [
    {
     "data": {
      "text/plain": [
       "<seaborn.axisgrid.FacetGrid at 0x184adea4bb0>"
      ]
     },
     "execution_count": 152,
     "metadata": {},
     "output_type": "execute_result"
    },
    {
     "data": {
      "image/png": "[encoded data removed]",
      "text/plain": [
       "<Figure size 500x500 with 1 Axes>"
      ]
     },
     "metadata": {},
     "output_type": "display_data"
    }
   ],
   "source": [
    "sns.displot(stockr_df['close'], kde = True, bins = 12).set(title='Close Histogram') "
   ]
  },
  {
   "cell_type": "code",
   "execution_count": 123,
   "id": "2d9a32e0-28f4-4542-9e9a-138cf6708609",
   "metadata": {},
   "outputs": [
    {
     "data": {
      "text/html": [
       "<div>\n",
       "<style scoped>\n",
       "    .dataframe tbody tr th:only-of-type {\n",
       "        vertical-align: middle;\n",
       "    }\n",
       "\n",
       "    .dataframe tbody tr th {\n",
       "        vertical-align: top;\n",
       "    }\n",
       "\n",
       "    .dataframe thead th {\n",
       "        text-align: right;\n",
       "    }\n",
       "</style>\n",
       "<table border=\"1\" class=\"dataframe\">\n",
       "  <thead>\n",
       "    <tr style=\"text-align: right;\">\n",
       "      <th></th>\n",
       "      <th>symbol</th>\n",
       "      <th>open</th>\n",
       "      <th>high</th>\n",
       "      <th>low</th>\n",
       "      <th>close</th>\n",
       "      <th>volume</th>\n",
       "      <th>exchange</th>\n",
       "      <th>date</th>\n",
       "      <th>diff</th>\n",
       "    </tr>\n",
       "  </thead>\n",
       "  <tbody>\n",
       "  </tbody>\n",
       "</table>\n",
       "</div>"
      ],
      "text/plain": [
       "Empty DataFrame\n",
       "Columns: [symbol, open, high, low, close, volume, exchange, date, diff]\n",
       "Index: []"
      ]
     },
     "execution_count": 123,
     "metadata": {},
     "output_type": "execute_result"
    }
   ],
   "source": [
    "# Check outliers that were not already viewed in open\n",
    "stockr_df[(stockr_df.close > 1000) & (stockr_df.open < 1000)]"
   ]
  },
  {
   "cell_type": "markdown",
   "id": "086d7a67-a829-4bb7-ab05-d817aa52c34f",
   "metadata": {},
   "source": [
    "### Volume"
   ]
  },
  {
   "cell_type": "code",
   "execution_count": 153,
   "id": "04714e62-d75b-47d9-9a63-ab6439776651",
   "metadata": {},
   "outputs": [
    {
     "data": {
      "text/plain": [
       "<seaborn.axisgrid.FacetGrid at 0x184ae121160>"
      ]
     },
     "execution_count": 153,
     "metadata": {},
     "output_type": "execute_result"
    },
    {
     "data": {
      "image/png": "[encoded data removed]",
      "text/plain": [
       "<Figure size 500x500 with 1 Axes>"
      ]
     },
     "metadata": {},
     "output_type": "display_data"
    }
   ],
   "source": [
    "sns.displot(stockr_df['volume'], kde = True, bins = 7).set(title='Volume Histogram') "
   ]
  },
  {
   "cell_type": "code",
   "execution_count": 154,
   "id": "bc7c6298-c5fe-4507-8d24-ded201561c17",
   "metadata": {},
   "outputs": [
    {
     "data": {
      "text/html": [
       "<div>\n",
       "<style scoped>\n",
       "    .dataframe tbody tr th:only-of-type {\n",
       "        vertical-align: middle;\n",
       "    }\n",
       "\n",
       "    .dataframe tbody tr th {\n",
       "        vertical-align: top;\n",
       "    }\n",
       "\n",
       "    .dataframe thead th {\n",
       "        text-align: right;\n",
       "    }\n",
       "</style>\n",
       "<table border=\"1\" class=\"dataframe\">\n",
       "  <thead>\n",
       "    <tr style=\"text-align: right;\">\n",
       "      <th></th>\n",
       "      <th>symbol</th>\n",
       "      <th>open</th>\n",
       "      <th>high</th>\n",
       "      <th>low</th>\n",
       "      <th>close</th>\n",
       "      <th>volume</th>\n",
       "      <th>exchange</th>\n",
       "      <th>date</th>\n",
       "    </tr>\n",
       "  </thead>\n",
       "  <tbody>\n",
       "    <tr>\n",
       "      <th>27</th>\n",
       "      <td>AMD</td>\n",
       "      <td>146.160</td>\n",
       "      <td>148.61</td>\n",
       "      <td>143.55</td>\n",
       "      <td>143.90</td>\n",
       "      <td>49448144.0</td>\n",
       "      <td>XNAS</td>\n",
       "      <td>2021-12-31</td>\n",
       "    </tr>\n",
       "    <tr>\n",
       "      <th>29</th>\n",
       "      <td>AAL</td>\n",
       "      <td>18.070</td>\n",
       "      <td>18.36</td>\n",
       "      <td>17.93</td>\n",
       "      <td>17.96</td>\n",
       "      <td>20632600.0</td>\n",
       "      <td>XNAS</td>\n",
       "      <td>2021-12-31</td>\n",
       "    </tr>\n",
       "    <tr>\n",
       "      <th>44</th>\n",
       "      <td>AAPL</td>\n",
       "      <td>178.085</td>\n",
       "      <td>179.23</td>\n",
       "      <td>177.26</td>\n",
       "      <td>177.57</td>\n",
       "      <td>64062262.0</td>\n",
       "      <td>XNAS</td>\n",
       "      <td>2021-12-31</td>\n",
       "    </tr>\n",
       "    <tr>\n",
       "      <th>51</th>\n",
       "      <td>T</td>\n",
       "      <td>24.720</td>\n",
       "      <td>24.83</td>\n",
       "      <td>24.57</td>\n",
       "      <td>24.60</td>\n",
       "      <td>45000600.0</td>\n",
       "      <td>XNYS</td>\n",
       "      <td>2021-12-31</td>\n",
       "    </tr>\n",
       "    <tr>\n",
       "      <th>58</th>\n",
       "      <td>BAC</td>\n",
       "      <td>44.520</td>\n",
       "      <td>44.72</td>\n",
       "      <td>44.28</td>\n",
       "      <td>44.49</td>\n",
       "      <td>24239600.0</td>\n",
       "      <td>XNYS</td>\n",
       "      <td>2021-12-31</td>\n",
       "    </tr>\n",
       "    <tr>\n",
       "      <th>86</th>\n",
       "      <td>CCL</td>\n",
       "      <td>20.510</td>\n",
       "      <td>20.77</td>\n",
       "      <td>20.02</td>\n",
       "      <td>20.12</td>\n",
       "      <td>29323300.0</td>\n",
       "      <td>XNYS</td>\n",
       "      <td>2021-12-31</td>\n",
       "    </tr>\n",
       "    <tr>\n",
       "      <th>199</th>\n",
       "      <td>F</td>\n",
       "      <td>20.460</td>\n",
       "      <td>21.01</td>\n",
       "      <td>20.46</td>\n",
       "      <td>20.77</td>\n",
       "      <td>51798100.0</td>\n",
       "      <td>XNYS</td>\n",
       "      <td>2021-12-31</td>\n",
       "    </tr>\n",
       "    <tr>\n",
       "      <th>338</th>\n",
       "      <td>NCLH</td>\n",
       "      <td>20.870</td>\n",
       "      <td>21.19</td>\n",
       "      <td>20.40</td>\n",
       "      <td>20.74</td>\n",
       "      <td>20822800.0</td>\n",
       "      <td>XNYS</td>\n",
       "      <td>2021-12-31</td>\n",
       "    </tr>\n",
       "    <tr>\n",
       "      <th>341</th>\n",
       "      <td>NVDA</td>\n",
       "      <td>296.740</td>\n",
       "      <td>300.30</td>\n",
       "      <td>293.31</td>\n",
       "      <td>294.11</td>\n",
       "      <td>26628500.0</td>\n",
       "      <td>XNAS</td>\n",
       "      <td>2021-12-31</td>\n",
       "    </tr>\n",
       "    <tr>\n",
       "      <th>362</th>\n",
       "      <td>PFE</td>\n",
       "      <td>58.530</td>\n",
       "      <td>59.80</td>\n",
       "      <td>58.44</td>\n",
       "      <td>59.05</td>\n",
       "      <td>28535400.0</td>\n",
       "      <td>XNYS</td>\n",
       "      <td>2021-12-31</td>\n",
       "    </tr>\n",
       "  </tbody>\n",
       "</table>\n",
       "</div>"
      ],
      "text/plain": [
       "    symbol     open    high     low   close      volume exchange        date\n",
       "27     AMD  146.160  148.61  143.55  143.90  49448144.0     XNAS  2021-12-31\n",
       "29     AAL   18.070   18.36   17.93   17.96  20632600.0     XNAS  2021-12-31\n",
       "44    AAPL  178.085  179.23  177.26  177.57  64062262.0     XNAS  2021-12-31\n",
       "51       T   24.720   24.83   24.57   24.60  45000600.0     XNYS  2021-12-31\n",
       "58     BAC   44.520   44.72   44.28   44.49  24239600.0     XNYS  2021-12-31\n",
       "86     CCL   20.510   20.77   20.02   20.12  29323300.0     XNYS  2021-12-31\n",
       "199      F   20.460   21.01   20.46   20.77  51798100.0     XNYS  2021-12-31\n",
       "338   NCLH   20.870   21.19   20.40   20.74  20822800.0     XNYS  2021-12-31\n",
       "341   NVDA  296.740  300.30  293.31  294.11  26628500.0     XNAS  2021-12-31\n",
       "362    PFE   58.530   59.80   58.44   59.05  28535400.0     XNYS  2021-12-31"
      ]
     },
     "execution_count": 154,
     "metadata": {},
     "output_type": "execute_result"
    }
   ],
   "source": [
    "# Check outliers that were not already viewed in open\n",
    "# No significant outliers found\n",
    "stockr_df[(stockr_df.volume > 20000000) & (stockr_df.open < 1000)]"
   ]
  },
  {
   "cell_type": "markdown",
   "id": "a6b0221e-6a2d-42b3-abb7-4b8ac5949513",
   "metadata": {},
   "source": [
    "### Exchange"
   ]
  },
  {
   "cell_type": "code",
   "execution_count": 106,
   "id": "057a2a97-963e-483c-b946-f9666a0c647d",
   "metadata": {},
   "outputs": [
    {
     "data": {
      "text/plain": [
       "{'ARCX', 'XCBO', 'XNAS', 'XNYS'}"
      ]
     },
     "execution_count": 106,
     "metadata": {},
     "output_type": "execute_result"
    }
   ],
   "source": [
    "# Get unique values of exchange\n",
    "set(stockr_df['exchange'])"
   ]
  },
  {
   "cell_type": "code",
   "execution_count": 108,
   "id": "690257ee-6a24-4db8-a907-41a449265e0c",
   "metadata": {},
   "outputs": [
    {
     "data": {
      "text/plain": [
       "[Text(0.5, 1.0, 'Exchange Count')]"
      ]
     },
     "execution_count": 108,
     "metadata": {},
     "output_type": "execute_result"
    },
    {
     "data": {
      "image/png": "[encoded data removed]",
      "text/plain": [
       "<Figure size 640x480 with 1 Axes>"
      ]
     },
     "metadata": {},
     "output_type": "display_data"
    }
   ],
   "source": [
    "# XNYS and XNAS appear to be the most popular exchange types\n",
    "# No significant outliers\n",
    "sns.countplot(x ='exchange', data = stockr_df).set(title='Exchange Count') "
   ]
  },
  {
   "cell_type": "markdown",
   "id": "50daebd2-3db7-49e7-a330-f4b6775108f9",
   "metadata": {},
   "source": [
    "### Date"
   ]
  },
  {
   "cell_type": "code",
   "execution_count": 109,
   "id": "fa683236-21f8-4598-a8e8-f06678c797ce",
   "metadata": {},
   "outputs": [
    {
     "data": {
      "text/plain": [
       "{datetime.date(2021, 12, 31)}"
      ]
     },
     "execution_count": 109,
     "metadata": {},
     "output_type": "execute_result"
    }
   ],
   "source": [
    "# Only one value\n",
    "# No outliers\n",
    "set(stockr_df['date'])"
   ]
  },
  {
   "cell_type": "markdown",
   "id": "9af71b3d-3c0d-4d5f-8504-3b47f10d3ed2",
   "metadata": {},
   "source": [
    "After reviewing potential outliers in Step 5, GOOG showed values that did not fit the case. The values were replace with the alternate GOOGL."
   ]
  },
  {
   "cell_type": "markdown",
   "id": "e26c412d-1c89-4963-a51b-6453091a2167",
   "metadata": {},
   "source": [
    "## Step 6: New Column for Open vs Close Difference"
   ]
  },
  {
   "cell_type": "code",
   "execution_count": 155,
   "id": "2c91856f-1016-49e2-afed-22592693b7a1",
   "metadata": {},
   "outputs": [],
   "source": [
    "stockr_df['diff'] = stockr_df['close'] - stockr_df['open']"
   ]
  },
  {
   "cell_type": "markdown",
   "id": "e248b321-f250-44f6-a1e9-66a3f8222efd",
   "metadata": {},
   "source": [
    "In Step 6, I created a new column to store the difference between open and close."
   ]
  },
  {
   "cell_type": "markdown",
   "id": "17a89d46-20b3-4097-a785-e20844d541d9",
   "metadata": {},
   "source": [
    "# Summary"
   ]
  },
  {
   "cell_type": "code",
   "execution_count": 157,
   "id": "0e2bf801-e0d3-4b09-8916-06ec2eaa7237",
   "metadata": {},
   "outputs": [
    {
     "data": {
      "text/html": [
       "<div>\n",
       "<style scoped>\n",
       "    .dataframe tbody tr th:only-of-type {\n",
       "        vertical-align: middle;\n",
       "    }\n",
       "\n",
       "    .dataframe tbody tr th {\n",
       "        vertical-align: top;\n",
       "    }\n",
       "\n",
       "    .dataframe thead th {\n",
       "        text-align: right;\n",
       "    }\n",
       "</style>\n",
       "<table border=\"1\" class=\"dataframe\">\n",
       "  <thead>\n",
       "    <tr style=\"text-align: right;\">\n",
       "      <th></th>\n",
       "      <th>symbol</th>\n",
       "      <th>open</th>\n",
       "      <th>high</th>\n",
       "      <th>low</th>\n",
       "      <th>close</th>\n",
       "      <th>volume</th>\n",
       "      <th>exchange</th>\n",
       "      <th>date</th>\n",
       "      <th>diff</th>\n",
       "    </tr>\n",
       "  </thead>\n",
       "  <tbody>\n",
       "    <tr>\n",
       "      <th>0</th>\n",
       "      <td>MMM</td>\n",
       "      <td>177.53</td>\n",
       "      <td>178.35</td>\n",
       "      <td>176.5100</td>\n",
       "      <td>177.63</td>\n",
       "      <td>1414600.0</td>\n",
       "      <td>XNYS</td>\n",
       "      <td>2021-12-31</td>\n",
       "      <td>0.10</td>\n",
       "    </tr>\n",
       "    <tr>\n",
       "      <th>1</th>\n",
       "      <td>AOS</td>\n",
       "      <td>85.13</td>\n",
       "      <td>86.25</td>\n",
       "      <td>85.1300</td>\n",
       "      <td>85.85</td>\n",
       "      <td>966600.0</td>\n",
       "      <td>XNYS</td>\n",
       "      <td>2021-12-31</td>\n",
       "      <td>0.72</td>\n",
       "    </tr>\n",
       "    <tr>\n",
       "      <th>2</th>\n",
       "      <td>ABT</td>\n",
       "      <td>141.00</td>\n",
       "      <td>141.77</td>\n",
       "      <td>140.7200</td>\n",
       "      <td>140.74</td>\n",
       "      <td>3271000.0</td>\n",
       "      <td>XNYS</td>\n",
       "      <td>2021-12-31</td>\n",
       "      <td>-0.26</td>\n",
       "    </tr>\n",
       "    <tr>\n",
       "      <th>3</th>\n",
       "      <td>ABBV</td>\n",
       "      <td>136.04</td>\n",
       "      <td>136.21</td>\n",
       "      <td>135.3000</td>\n",
       "      <td>135.40</td>\n",
       "      <td>3962700.0</td>\n",
       "      <td>XNYS</td>\n",
       "      <td>2021-12-31</td>\n",
       "      <td>-0.64</td>\n",
       "    </tr>\n",
       "    <tr>\n",
       "      <th>4</th>\n",
       "      <td>ACN</td>\n",
       "      <td>412.70</td>\n",
       "      <td>416.95</td>\n",
       "      <td>412.1096</td>\n",
       "      <td>414.55</td>\n",
       "      <td>1163448.0</td>\n",
       "      <td>XNYS</td>\n",
       "      <td>2021-12-31</td>\n",
       "      <td>1.85</td>\n",
       "    </tr>\n",
       "    <tr>\n",
       "      <th>5</th>\n",
       "      <td>ATVI</td>\n",
       "      <td>67.32</td>\n",
       "      <td>67.64</td>\n",
       "      <td>66.3000</td>\n",
       "      <td>66.53</td>\n",
       "      <td>9471800.0</td>\n",
       "      <td>XNAS</td>\n",
       "      <td>2021-12-31</td>\n",
       "      <td>-0.79</td>\n",
       "    </tr>\n",
       "    <tr>\n",
       "      <th>6</th>\n",
       "      <td>ADM</td>\n",
       "      <td>66.70</td>\n",
       "      <td>67.76</td>\n",
       "      <td>66.6000</td>\n",
       "      <td>67.59</td>\n",
       "      <td>1330500.0</td>\n",
       "      <td>XNYS</td>\n",
       "      <td>2021-12-31</td>\n",
       "      <td>0.89</td>\n",
       "    </tr>\n",
       "    <tr>\n",
       "      <th>7</th>\n",
       "      <td>ADBE</td>\n",
       "      <td>570.00</td>\n",
       "      <td>570.17</td>\n",
       "      <td>565.0700</td>\n",
       "      <td>567.06</td>\n",
       "      <td>1581400.0</td>\n",
       "      <td>XNAS</td>\n",
       "      <td>2021-12-31</td>\n",
       "      <td>-2.94</td>\n",
       "    </tr>\n",
       "    <tr>\n",
       "      <th>8</th>\n",
       "      <td>ADP</td>\n",
       "      <td>245.45</td>\n",
       "      <td>247.75</td>\n",
       "      <td>244.5900</td>\n",
       "      <td>246.58</td>\n",
       "      <td>884200.0</td>\n",
       "      <td>XNAS</td>\n",
       "      <td>2021-12-31</td>\n",
       "      <td>1.13</td>\n",
       "    </tr>\n",
       "    <tr>\n",
       "      <th>9</th>\n",
       "      <td>AAP</td>\n",
       "      <td>237.00</td>\n",
       "      <td>240.97</td>\n",
       "      <td>235.2200</td>\n",
       "      <td>239.88</td>\n",
       "      <td>676100.0</td>\n",
       "      <td>XNYS</td>\n",
       "      <td>2021-12-31</td>\n",
       "      <td>2.88</td>\n",
       "    </tr>\n",
       "  </tbody>\n",
       "</table>\n",
       "</div>"
      ],
      "text/plain": [
       "  symbol    open    high       low   close     volume exchange        date  \\\n",
       "0    MMM  177.53  178.35  176.5100  177.63  1414600.0     XNYS  2021-12-31   \n",
       "1    AOS   85.13   86.25   85.1300   85.85   966600.0     XNYS  2021-12-31   \n",
       "2    ABT  141.00  141.77  140.7200  140.74  3271000.0     XNYS  2021-12-31   \n",
       "3   ABBV  136.04  136.21  135.3000  135.40  3962700.0     XNYS  2021-12-31   \n",
       "4    ACN  412.70  416.95  412.1096  414.55  1163448.0     XNYS  2021-12-31   \n",
       "5   ATVI   67.32   67.64   66.3000   66.53  9471800.0     XNAS  2021-12-31   \n",
       "6    ADM   66.70   67.76   66.6000   67.59  1330500.0     XNYS  2021-12-31   \n",
       "7   ADBE  570.00  570.17  565.0700  567.06  1581400.0     XNAS  2021-12-31   \n",
       "8    ADP  245.45  247.75  244.5900  246.58   884200.0     XNAS  2021-12-31   \n",
       "9    AAP  237.00  240.97  235.2200  239.88   676100.0     XNYS  2021-12-31   \n",
       "\n",
       "   diff  \n",
       "0  0.10  \n",
       "1  0.72  \n",
       "2 -0.26  \n",
       "3 -0.64  \n",
       "4  1.85  \n",
       "5 -0.79  \n",
       "6  0.89  \n",
       "7 -2.94  \n",
       "8  1.13  \n",
       "9  2.88  "
      ]
     },
     "execution_count": 157,
     "metadata": {},
     "output_type": "execute_result"
    }
   ],
   "source": [
    "stockr_df.head(10)"
   ]
  },
  {
   "cell_type": "markdown",
   "id": "d124046a-0c28-4fc5-9de0-fe2f5c9d9e58",
   "metadata": {},
   "source": [
    "Marketstack utilizes multiple high-authority market data providers as the source for the API. The analysis above is reliant on the historical and current data has been sourced correctly by these entities. In the cleaning process, I chose to replace the open, high, low, close, and volume values if an adjusted value was available. The adjusted value takes into considerations other factors outside of the normal stock market hours. There are ethical complications involved with this considering the value may not be what was reported on December 31, 2021. For the value of the stock GOOG, I replaced the values with GOOGL as the adjusted values appeared incorrect. The difference calculated by the open and close is only calculated for one day and may not be representative of the entire year."
   ]
  }
 ],
 "metadata": {
  "kernelspec": {
   "display_name": "Python 3 (ipykernel)",
   "language": "python",
   "name": "python3"
  },
  "language_info": {
   "codemirror_mode": {
    "name": "ipython",
    "version": 3
   },
   "file_extension": ".py",
   "mimetype": "text/x-python",
   "name": "python",
   "nbconvert_exporter": "python",
   "pygments_lexer": "ipython3",
   "version": "3.9.13"
  }
 },
 "nbformat": 4,
 "nbformat_minor": 5
}
