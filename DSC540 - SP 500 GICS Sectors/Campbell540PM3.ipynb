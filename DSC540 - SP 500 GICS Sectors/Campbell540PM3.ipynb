{
 "cells": [
  {
   "cell_type": "markdown",
   "id": "7099b8d2-5536-463a-8294-cbaa7e107276",
   "metadata": {},
   "source": [
    "# Milestone 3 - List of S&P 500 companies website"
   ]
  },
  {
   "cell_type": "code",
   "execution_count": 2,
   "id": "0785151d-5a0e-4b13-8fae-e7ac25c4a024",
   "metadata": {},
   "outputs": [],
   "source": [
    "# Load libraries\n",
    "from bs4 import BeautifulSoup\n",
    "import requests\n",
    "import pandas as pd"
   ]
  },
  {
   "cell_type": "code",
   "execution_count": 3,
   "id": "66663eab-43a4-4f4b-b446-8bd195c1756d",
   "metadata": {},
   "outputs": [],
   "source": [
    "# Get html page\n",
    "html_document = requests.get('https://en.wikipedia.org/wiki/List_of_S%26P_500_companies#:~:text=S%26P%20500%20component%20stocks%20%20%20%20Symbol,%20%20%20%2014%20more%20rows%20')"
   ]
  },
  {
   "cell_type": "code",
   "execution_count": 4,
   "id": "cdf68946-3455-47cc-b166-08522e98236f",
   "metadata": {},
   "outputs": [],
   "source": [
    "# Pares through Beautiful Soup\n",
    "soup = BeautifulSoup(html_document.text, 'html.parser')"
   ]
  },
  {
   "cell_type": "code",
   "execution_count": 5,
   "id": "13c04081-7809-4226-a180-16fd38990dfa",
   "metadata": {},
   "outputs": [
    {
     "name": "stdout",
     "output_type": "stream",
     "text": [
      "Number of tables: 2\n"
     ]
    }
   ],
   "source": [
    "# Find all tables\n",
    "all_tables = soup.find_all(\"table\")\n",
    "print(\"Number of tables: {}\".format(len(all_tables)))"
   ]
  },
  {
   "cell_type": "code",
   "execution_count": 6,
   "id": "39a129c5-a184-410e-ab88-e1d5efc08e28",
   "metadata": {},
   "outputs": [],
   "source": [
    "# the table has id of constituents\n",
    "table = soup.find_all('table', {'id':'constituents'})"
   ]
  },
  {
   "cell_type": "code",
   "execution_count": 7,
   "id": "57ae7dd4-dd76-4a6b-979d-e10108fb505e",
   "metadata": {},
   "outputs": [
    {
     "data": {
      "text/plain": [
       "['Symbol',\n",
       " 'Security',\n",
       " 'SEC filings',\n",
       " 'GICS Sector',\n",
       " 'GICS Sub-Industry',\n",
       " 'Headquarters Location',\n",
       " 'Date added',\n",
       " 'CIK',\n",
       " 'Founded']"
      ]
     },
     "execution_count": 7,
     "metadata": {},
     "output_type": "execute_result"
    }
   ],
   "source": [
    "# Get headers of table\n",
    "headers = [th.getText().strip() for th in table[0].findAll('th')]\n",
    "headers"
   ]
  },
  {
   "cell_type": "code",
   "execution_count": 8,
   "id": "4baf5b0b-afea-40d5-a07a-5508fe016613",
   "metadata": {},
   "outputs": [],
   "source": [
    "# Get rows by getting all tr in tbody\n",
    "rows = table[0].findAll('tr')[1:]\n",
    "    \n",
    "# get text from row in each cell\n",
    "row_data = [[td.text.strip() for td in tr.findAll('td')] for tr in rows]"
   ]
  },
  {
   "cell_type": "code",
   "execution_count": 9,
   "id": "dce7dc0f-d59b-4b86-a5f9-95ea40f6676c",
   "metadata": {},
   "outputs": [
    {
     "data": {
      "text/html": [
       "<div>\n",
       "<style scoped>\n",
       "    .dataframe tbody tr th:only-of-type {\n",
       "        vertical-align: middle;\n",
       "    }\n",
       "\n",
       "    .dataframe tbody tr th {\n",
       "        vertical-align: top;\n",
       "    }\n",
       "\n",
       "    .dataframe thead th {\n",
       "        text-align: right;\n",
       "    }\n",
       "</style>\n",
       "<table border=\"1\" class=\"dataframe\">\n",
       "  <thead>\n",
       "    <tr style=\"text-align: right;\">\n",
       "      <th></th>\n",
       "      <th>Symbol</th>\n",
       "      <th>Security</th>\n",
       "      <th>SEC filings</th>\n",
       "      <th>GICS Sector</th>\n",
       "      <th>GICS Sub-Industry</th>\n",
       "      <th>Headquarters Location</th>\n",
       "      <th>Date added</th>\n",
       "      <th>CIK</th>\n",
       "      <th>Founded</th>\n",
       "    </tr>\n",
       "  </thead>\n",
       "  <tbody>\n",
       "    <tr>\n",
       "      <th>0</th>\n",
       "      <td>MMM</td>\n",
       "      <td>3M</td>\n",
       "      <td>reports</td>\n",
       "      <td>Industrials</td>\n",
       "      <td>Industrial Conglomerates</td>\n",
       "      <td>Saint Paul, Minnesota</td>\n",
       "      <td>1976-08-09</td>\n",
       "      <td>0000066740</td>\n",
       "      <td>1902</td>\n",
       "    </tr>\n",
       "    <tr>\n",
       "      <th>1</th>\n",
       "      <td>AOS</td>\n",
       "      <td>A. O. Smith</td>\n",
       "      <td>reports</td>\n",
       "      <td>Industrials</td>\n",
       "      <td>Building Products</td>\n",
       "      <td>Milwaukee, Wisconsin</td>\n",
       "      <td>2017-07-26</td>\n",
       "      <td>0000091142</td>\n",
       "      <td>1916</td>\n",
       "    </tr>\n",
       "    <tr>\n",
       "      <th>2</th>\n",
       "      <td>ABT</td>\n",
       "      <td>Abbott</td>\n",
       "      <td>reports</td>\n",
       "      <td>Health Care</td>\n",
       "      <td>Health Care Equipment</td>\n",
       "      <td>North Chicago, Illinois</td>\n",
       "      <td>1964-03-31</td>\n",
       "      <td>0000001800</td>\n",
       "      <td>1888</td>\n",
       "    </tr>\n",
       "    <tr>\n",
       "      <th>3</th>\n",
       "      <td>ABBV</td>\n",
       "      <td>AbbVie</td>\n",
       "      <td>reports</td>\n",
       "      <td>Health Care</td>\n",
       "      <td>Pharmaceuticals</td>\n",
       "      <td>North Chicago, Illinois</td>\n",
       "      <td>2012-12-31</td>\n",
       "      <td>0001551152</td>\n",
       "      <td>2013 (1888)</td>\n",
       "    </tr>\n",
       "    <tr>\n",
       "      <th>4</th>\n",
       "      <td>ACN</td>\n",
       "      <td>Accenture</td>\n",
       "      <td>reports</td>\n",
       "      <td>Information Technology</td>\n",
       "      <td>IT Consulting &amp; Other Services</td>\n",
       "      <td>Dublin, Ireland</td>\n",
       "      <td>2011-07-06</td>\n",
       "      <td>0001467373</td>\n",
       "      <td>1989</td>\n",
       "    </tr>\n",
       "  </tbody>\n",
       "</table>\n",
       "</div>"
      ],
      "text/plain": [
       "  Symbol     Security SEC filings             GICS Sector  \\\n",
       "0    MMM           3M     reports             Industrials   \n",
       "1    AOS  A. O. Smith     reports             Industrials   \n",
       "2    ABT       Abbott     reports             Health Care   \n",
       "3   ABBV       AbbVie     reports             Health Care   \n",
       "4    ACN    Accenture     reports  Information Technology   \n",
       "\n",
       "                GICS Sub-Industry    Headquarters Location  Date added  \\\n",
       "0        Industrial Conglomerates    Saint Paul, Minnesota  1976-08-09   \n",
       "1               Building Products     Milwaukee, Wisconsin  2017-07-26   \n",
       "2           Health Care Equipment  North Chicago, Illinois  1964-03-31   \n",
       "3                 Pharmaceuticals  North Chicago, Illinois  2012-12-31   \n",
       "4  IT Consulting & Other Services          Dublin, Ireland  2011-07-06   \n",
       "\n",
       "          CIK      Founded  \n",
       "0  0000066740         1902  \n",
       "1  0000091142         1916  \n",
       "2  0000001800         1888  \n",
       "3  0001551152  2013 (1888)  \n",
       "4  0001467373         1989  "
      ]
     },
     "execution_count": 9,
     "metadata": {},
     "output_type": "execute_result"
    }
   ],
   "source": [
    "# Create dataframe with header and row text\n",
    "sp_table = pd.DataFrame(row_data, columns=headers)\n",
    "sp_table.head()"
   ]
  },
  {
   "cell_type": "code",
   "execution_count": 10,
   "id": "dc44cb10-2e8f-43c3-902a-373a12bf028c",
   "metadata": {},
   "outputs": [
    {
     "data": {
      "text/html": [
       "<div>\n",
       "<style scoped>\n",
       "    .dataframe tbody tr th:only-of-type {\n",
       "        vertical-align: middle;\n",
       "    }\n",
       "\n",
       "    .dataframe tbody tr th {\n",
       "        vertical-align: top;\n",
       "    }\n",
       "\n",
       "    .dataframe thead th {\n",
       "        text-align: right;\n",
       "    }\n",
       "</style>\n",
       "<table border=\"1\" class=\"dataframe\">\n",
       "  <thead>\n",
       "    <tr style=\"text-align: right;\">\n",
       "      <th></th>\n",
       "      <th>Symbol</th>\n",
       "      <th>Security</th>\n",
       "      <th>SEC filings</th>\n",
       "      <th>GICS Sector</th>\n",
       "      <th>GICS Sub-Industry</th>\n",
       "      <th>Headquarters Location</th>\n",
       "      <th>Date added</th>\n",
       "      <th>CIK</th>\n",
       "      <th>Founded</th>\n",
       "    </tr>\n",
       "  </thead>\n",
       "  <tbody>\n",
       "    <tr>\n",
       "      <th>count</th>\n",
       "      <td>503</td>\n",
       "      <td>503</td>\n",
       "      <td>503</td>\n",
       "      <td>503</td>\n",
       "      <td>503</td>\n",
       "      <td>503</td>\n",
       "      <td>503</td>\n",
       "      <td>503</td>\n",
       "      <td>503</td>\n",
       "    </tr>\n",
       "    <tr>\n",
       "      <th>unique</th>\n",
       "      <td>503</td>\n",
       "      <td>503</td>\n",
       "      <td>1</td>\n",
       "      <td>11</td>\n",
       "      <td>123</td>\n",
       "      <td>250</td>\n",
       "      <td>352</td>\n",
       "      <td>500</td>\n",
       "      <td>196</td>\n",
       "    </tr>\n",
       "    <tr>\n",
       "      <th>top</th>\n",
       "      <td>MMM</td>\n",
       "      <td>3M</td>\n",
       "      <td>reports</td>\n",
       "      <td>Information Technology</td>\n",
       "      <td>Health Care Equipment</td>\n",
       "      <td>New York City, New York</td>\n",
       "      <td></td>\n",
       "      <td>0001564708</td>\n",
       "      <td>1985</td>\n",
       "    </tr>\n",
       "    <tr>\n",
       "      <th>freq</th>\n",
       "      <td>1</td>\n",
       "      <td>1</td>\n",
       "      <td>503</td>\n",
       "      <td>76</td>\n",
       "      <td>18</td>\n",
       "      <td>42</td>\n",
       "      <td>44</td>\n",
       "      <td>2</td>\n",
       "      <td>12</td>\n",
       "    </tr>\n",
       "  </tbody>\n",
       "</table>\n",
       "</div>"
      ],
      "text/plain": [
       "       Symbol Security SEC filings             GICS Sector  \\\n",
       "count     503      503         503                     503   \n",
       "unique    503      503           1                      11   \n",
       "top       MMM       3M     reports  Information Technology   \n",
       "freq        1        1         503                      76   \n",
       "\n",
       "            GICS Sub-Industry    Headquarters Location Date added         CIK  \\\n",
       "count                     503                      503        503         503   \n",
       "unique                    123                      250        352         500   \n",
       "top     Health Care Equipment  New York City, New York             0001564708   \n",
       "freq                       18                       42         44           2   \n",
       "\n",
       "       Founded  \n",
       "count      503  \n",
       "unique     196  \n",
       "top       1985  \n",
       "freq        12  "
      ]
     },
     "execution_count": 10,
     "metadata": {},
     "output_type": "execute_result"
    }
   ],
   "source": [
    "# Describe table\n",
    "sp_table.describe()"
   ]
  },
  {
   "cell_type": "markdown",
   "id": "bc2a9ceb-773d-4e0f-ac14-a073eb5e4137",
   "metadata": {},
   "source": [
    "# Cleaning Steps"
   ]
  },
  {
   "cell_type": "markdown",
   "id": "7e932abf-fc46-47f2-bc65-2c5f5f0fef42",
   "metadata": {},
   "source": [
    "## Step 1: Rename Column Headers"
   ]
  },
  {
   "cell_type": "code",
   "execution_count": 13,
   "id": "9d9a5cf7-4605-4054-b622-3e36f3d8bb9a",
   "metadata": {},
   "outputs": [],
   "source": [
    "new_column_headers = {'Symbol': 'symbol',\n",
    "                      'Security': 'security',\n",
    "                      'SEC filings': 'sec',\n",
    "                      'GICS Sector': 'gics_sec',\n",
    "                      'GICS Sub-Industry': 'gics_sub',\n",
    "                      'Headquarters Location': 'headquarters',\n",
    "                      'Date added': 'sp_date',\n",
    "                      'CIK': 'cik',\n",
    "                      'Founded':'founded'}"
   ]
  },
  {
   "cell_type": "code",
   "execution_count": 14,
   "id": "dfefeb80-6696-47a9-9a8d-d9279fa586f3",
   "metadata": {},
   "outputs": [],
   "source": [
    "# Rename columns based on list above and replace\n",
    "sp_table.rename(columns=new_column_headers, inplace=True)"
   ]
  },
  {
   "cell_type": "code",
   "execution_count": 15,
   "id": "e290fb07-66d3-4665-b94f-cbeabdf69c50",
   "metadata": {},
   "outputs": [],
   "source": [
    "# Drop SEC Filings\n",
    "sp_table.drop(['sec'], axis=1, inplace=True)"
   ]
  },
  {
   "cell_type": "code",
   "execution_count": 16,
   "id": "a7107f57-d801-4091-b798-b9fb651353f9",
   "metadata": {},
   "outputs": [
    {
     "data": {
      "text/html": [
       "<div>\n",
       "<style scoped>\n",
       "    .dataframe tbody tr th:only-of-type {\n",
       "        vertical-align: middle;\n",
       "    }\n",
       "\n",
       "    .dataframe tbody tr th {\n",
       "        vertical-align: top;\n",
       "    }\n",
       "\n",
       "    .dataframe thead th {\n",
       "        text-align: right;\n",
       "    }\n",
       "</style>\n",
       "<table border=\"1\" class=\"dataframe\">\n",
       "  <thead>\n",
       "    <tr style=\"text-align: right;\">\n",
       "      <th></th>\n",
       "      <th>symbol</th>\n",
       "      <th>security</th>\n",
       "      <th>gics_sec</th>\n",
       "      <th>gics_sub</th>\n",
       "      <th>headquarters</th>\n",
       "      <th>sp_date</th>\n",
       "      <th>cik</th>\n",
       "      <th>founded</th>\n",
       "    </tr>\n",
       "  </thead>\n",
       "  <tbody>\n",
       "    <tr>\n",
       "      <th>0</th>\n",
       "      <td>MMM</td>\n",
       "      <td>3M</td>\n",
       "      <td>Industrials</td>\n",
       "      <td>Industrial Conglomerates</td>\n",
       "      <td>Saint Paul, Minnesota</td>\n",
       "      <td>1976-08-09</td>\n",
       "      <td>0000066740</td>\n",
       "      <td>1902</td>\n",
       "    </tr>\n",
       "    <tr>\n",
       "      <th>1</th>\n",
       "      <td>AOS</td>\n",
       "      <td>A. O. Smith</td>\n",
       "      <td>Industrials</td>\n",
       "      <td>Building Products</td>\n",
       "      <td>Milwaukee, Wisconsin</td>\n",
       "      <td>2017-07-26</td>\n",
       "      <td>0000091142</td>\n",
       "      <td>1916</td>\n",
       "    </tr>\n",
       "    <tr>\n",
       "      <th>2</th>\n",
       "      <td>ABT</td>\n",
       "      <td>Abbott</td>\n",
       "      <td>Health Care</td>\n",
       "      <td>Health Care Equipment</td>\n",
       "      <td>North Chicago, Illinois</td>\n",
       "      <td>1964-03-31</td>\n",
       "      <td>0000001800</td>\n",
       "      <td>1888</td>\n",
       "    </tr>\n",
       "    <tr>\n",
       "      <th>3</th>\n",
       "      <td>ABBV</td>\n",
       "      <td>AbbVie</td>\n",
       "      <td>Health Care</td>\n",
       "      <td>Pharmaceuticals</td>\n",
       "      <td>North Chicago, Illinois</td>\n",
       "      <td>2012-12-31</td>\n",
       "      <td>0001551152</td>\n",
       "      <td>2013 (1888)</td>\n",
       "    </tr>\n",
       "    <tr>\n",
       "      <th>4</th>\n",
       "      <td>ACN</td>\n",
       "      <td>Accenture</td>\n",
       "      <td>Information Technology</td>\n",
       "      <td>IT Consulting &amp; Other Services</td>\n",
       "      <td>Dublin, Ireland</td>\n",
       "      <td>2011-07-06</td>\n",
       "      <td>0001467373</td>\n",
       "      <td>1989</td>\n",
       "    </tr>\n",
       "  </tbody>\n",
       "</table>\n",
       "</div>"
      ],
      "text/plain": [
       "  symbol     security                gics_sec                        gics_sub  \\\n",
       "0    MMM           3M             Industrials        Industrial Conglomerates   \n",
       "1    AOS  A. O. Smith             Industrials               Building Products   \n",
       "2    ABT       Abbott             Health Care           Health Care Equipment   \n",
       "3   ABBV       AbbVie             Health Care                 Pharmaceuticals   \n",
       "4    ACN    Accenture  Information Technology  IT Consulting & Other Services   \n",
       "\n",
       "              headquarters     sp_date         cik      founded  \n",
       "0    Saint Paul, Minnesota  1976-08-09  0000066740         1902  \n",
       "1     Milwaukee, Wisconsin  2017-07-26  0000091142         1916  \n",
       "2  North Chicago, Illinois  1964-03-31  0000001800         1888  \n",
       "3  North Chicago, Illinois  2012-12-31  0001551152  2013 (1888)  \n",
       "4          Dublin, Ireland  2011-07-06  0001467373         1989  "
      ]
     },
     "execution_count": 16,
     "metadata": {},
     "output_type": "execute_result"
    }
   ],
   "source": [
    "sp_table.head()"
   ]
  },
  {
   "cell_type": "markdown",
   "id": "e1e69046-f75a-4b99-8ef3-21efc7d62e26",
   "metadata": {},
   "source": [
    "In the first step, I renamed the columns to make it easier to work with and dropped the SEC filings column since it contained a link to a pdf not necessary for this analysis."
   ]
  },
  {
   "cell_type": "markdown",
   "id": "1f06f6c4-c40d-4dec-bcf7-46f2d0958862",
   "metadata": {},
   "source": [
    "## Step 2: Convert Founded Year to int"
   ]
  },
  {
   "cell_type": "code",
   "execution_count": 17,
   "id": "5ea788cf-16fb-4cbd-b99c-a3bd654f1989",
   "metadata": {},
   "outputs": [],
   "source": [
    "# Split founded year to only use the first entered year\n",
    "sp_table['founded'] = sp_table['founded'].str.split('(').str[0]\n",
    "sp_table['founded'] = sp_table['founded'].str.split('/').str[0]"
   ]
  },
  {
   "cell_type": "code",
   "execution_count": 18,
   "id": "c08ab894-c481-4f9b-af97-9eb0eeee1845",
   "metadata": {},
   "outputs": [],
   "source": [
    "# Convert from object to int\n",
    "sp_table['founded'] = sp_table['founded'].astype(int)"
   ]
  },
  {
   "cell_type": "code",
   "execution_count": 19,
   "id": "32a8013e-c350-416e-be0a-e5048df57e2b",
   "metadata": {},
   "outputs": [
    {
     "data": {
      "text/plain": [
       "dtype('int32')"
      ]
     },
     "execution_count": 19,
     "metadata": {},
     "output_type": "execute_result"
    }
   ],
   "source": [
    "sp_table['founded'].dtype"
   ]
  },
  {
   "cell_type": "code",
   "execution_count": 20,
   "id": "1c2e0688-0b7c-42a7-a732-bd5ecc6c5ee5",
   "metadata": {},
   "outputs": [
    {
     "data": {
      "text/html": [
       "<div>\n",
       "<style scoped>\n",
       "    .dataframe tbody tr th:only-of-type {\n",
       "        vertical-align: middle;\n",
       "    }\n",
       "\n",
       "    .dataframe tbody tr th {\n",
       "        vertical-align: top;\n",
       "    }\n",
       "\n",
       "    .dataframe thead th {\n",
       "        text-align: right;\n",
       "    }\n",
       "</style>\n",
       "<table border=\"1\" class=\"dataframe\">\n",
       "  <thead>\n",
       "    <tr style=\"text-align: right;\">\n",
       "      <th></th>\n",
       "      <th>symbol</th>\n",
       "      <th>security</th>\n",
       "      <th>gics_sec</th>\n",
       "      <th>gics_sub</th>\n",
       "      <th>headquarters</th>\n",
       "      <th>sp_date</th>\n",
       "      <th>cik</th>\n",
       "      <th>founded</th>\n",
       "    </tr>\n",
       "  </thead>\n",
       "  <tbody>\n",
       "    <tr>\n",
       "      <th>0</th>\n",
       "      <td>MMM</td>\n",
       "      <td>3M</td>\n",
       "      <td>Industrials</td>\n",
       "      <td>Industrial Conglomerates</td>\n",
       "      <td>Saint Paul, Minnesota</td>\n",
       "      <td>1976-08-09</td>\n",
       "      <td>0000066740</td>\n",
       "      <td>1902</td>\n",
       "    </tr>\n",
       "    <tr>\n",
       "      <th>1</th>\n",
       "      <td>AOS</td>\n",
       "      <td>A. O. Smith</td>\n",
       "      <td>Industrials</td>\n",
       "      <td>Building Products</td>\n",
       "      <td>Milwaukee, Wisconsin</td>\n",
       "      <td>2017-07-26</td>\n",
       "      <td>0000091142</td>\n",
       "      <td>1916</td>\n",
       "    </tr>\n",
       "    <tr>\n",
       "      <th>2</th>\n",
       "      <td>ABT</td>\n",
       "      <td>Abbott</td>\n",
       "      <td>Health Care</td>\n",
       "      <td>Health Care Equipment</td>\n",
       "      <td>North Chicago, Illinois</td>\n",
       "      <td>1964-03-31</td>\n",
       "      <td>0000001800</td>\n",
       "      <td>1888</td>\n",
       "    </tr>\n",
       "    <tr>\n",
       "      <th>3</th>\n",
       "      <td>ABBV</td>\n",
       "      <td>AbbVie</td>\n",
       "      <td>Health Care</td>\n",
       "      <td>Pharmaceuticals</td>\n",
       "      <td>North Chicago, Illinois</td>\n",
       "      <td>2012-12-31</td>\n",
       "      <td>0001551152</td>\n",
       "      <td>2013</td>\n",
       "    </tr>\n",
       "    <tr>\n",
       "      <th>4</th>\n",
       "      <td>ACN</td>\n",
       "      <td>Accenture</td>\n",
       "      <td>Information Technology</td>\n",
       "      <td>IT Consulting &amp; Other Services</td>\n",
       "      <td>Dublin, Ireland</td>\n",
       "      <td>2011-07-06</td>\n",
       "      <td>0001467373</td>\n",
       "      <td>1989</td>\n",
       "    </tr>\n",
       "  </tbody>\n",
       "</table>\n",
       "</div>"
      ],
      "text/plain": [
       "  symbol     security                gics_sec                        gics_sub  \\\n",
       "0    MMM           3M             Industrials        Industrial Conglomerates   \n",
       "1    AOS  A. O. Smith             Industrials               Building Products   \n",
       "2    ABT       Abbott             Health Care           Health Care Equipment   \n",
       "3   ABBV       AbbVie             Health Care                 Pharmaceuticals   \n",
       "4    ACN    Accenture  Information Technology  IT Consulting & Other Services   \n",
       "\n",
       "              headquarters     sp_date         cik  founded  \n",
       "0    Saint Paul, Minnesota  1976-08-09  0000066740     1902  \n",
       "1     Milwaukee, Wisconsin  2017-07-26  0000091142     1916  \n",
       "2  North Chicago, Illinois  1964-03-31  0000001800     1888  \n",
       "3  North Chicago, Illinois  2012-12-31  0001551152     2013  \n",
       "4          Dublin, Ireland  2011-07-06  0001467373     1989  "
      ]
     },
     "execution_count": 20,
     "metadata": {},
     "output_type": "execute_result"
    }
   ],
   "source": [
    "sp_table.head()"
   ]
  },
  {
   "cell_type": "markdown",
   "id": "af48a58d-1b8b-4b0f-9b71-dcb9794e422d",
   "metadata": {},
   "source": [
    "The founded year was found to have multiple years, so the first year was used in order to transform into int. Two formats were used to enter the year and both were accounted for in the transformation."
   ]
  },
  {
   "cell_type": "markdown",
   "id": "195bf000-d048-4a3f-b9db-760313b7e1ad",
   "metadata": {},
   "source": [
    "## Step 3: Convert date added to datetime"
   ]
  },
  {
   "cell_type": "code",
   "execution_count": 21,
   "id": "ebfce8ab-16bb-4ab1-ad24-309619208773",
   "metadata": {},
   "outputs": [],
   "source": [
    "# Split date added for first date entered\n",
    "sp_table['sp_date'] = sp_table['sp_date'].str.split('(').str[0]"
   ]
  },
  {
   "cell_type": "code",
   "execution_count": 22,
   "id": "00a85114-16fa-433a-92b5-2c503f609e89",
   "metadata": {},
   "outputs": [],
   "source": [
    "# Convert to datetime\n",
    "sp_table['sp_date'] = pd.to_datetime(sp_table['sp_date'])"
   ]
  },
  {
   "cell_type": "code",
   "execution_count": 23,
   "id": "fccf891f-31b9-45af-a971-730fc336a1bd",
   "metadata": {},
   "outputs": [
    {
     "data": {
      "text/plain": [
       "dtype('<M8[ns]')"
      ]
     },
     "execution_count": 23,
     "metadata": {},
     "output_type": "execute_result"
    }
   ],
   "source": [
    "sp_table['sp_date'].dtype"
   ]
  },
  {
   "cell_type": "code",
   "execution_count": 24,
   "id": "72c949c0-3579-461b-b03c-ef734e25de3d",
   "metadata": {},
   "outputs": [
    {
     "data": {
      "text/html": [
       "<div>\n",
       "<style scoped>\n",
       "    .dataframe tbody tr th:only-of-type {\n",
       "        vertical-align: middle;\n",
       "    }\n",
       "\n",
       "    .dataframe tbody tr th {\n",
       "        vertical-align: top;\n",
       "    }\n",
       "\n",
       "    .dataframe thead th {\n",
       "        text-align: right;\n",
       "    }\n",
       "</style>\n",
       "<table border=\"1\" class=\"dataframe\">\n",
       "  <thead>\n",
       "    <tr style=\"text-align: right;\">\n",
       "      <th></th>\n",
       "      <th>symbol</th>\n",
       "      <th>security</th>\n",
       "      <th>gics_sec</th>\n",
       "      <th>gics_sub</th>\n",
       "      <th>headquarters</th>\n",
       "      <th>sp_date</th>\n",
       "      <th>cik</th>\n",
       "      <th>founded</th>\n",
       "    </tr>\n",
       "  </thead>\n",
       "  <tbody>\n",
       "    <tr>\n",
       "      <th>0</th>\n",
       "      <td>MMM</td>\n",
       "      <td>3M</td>\n",
       "      <td>Industrials</td>\n",
       "      <td>Industrial Conglomerates</td>\n",
       "      <td>Saint Paul, Minnesota</td>\n",
       "      <td>1976-08-09</td>\n",
       "      <td>0000066740</td>\n",
       "      <td>1902</td>\n",
       "    </tr>\n",
       "    <tr>\n",
       "      <th>1</th>\n",
       "      <td>AOS</td>\n",
       "      <td>A. O. Smith</td>\n",
       "      <td>Industrials</td>\n",
       "      <td>Building Products</td>\n",
       "      <td>Milwaukee, Wisconsin</td>\n",
       "      <td>2017-07-26</td>\n",
       "      <td>0000091142</td>\n",
       "      <td>1916</td>\n",
       "    </tr>\n",
       "    <tr>\n",
       "      <th>2</th>\n",
       "      <td>ABT</td>\n",
       "      <td>Abbott</td>\n",
       "      <td>Health Care</td>\n",
       "      <td>Health Care Equipment</td>\n",
       "      <td>North Chicago, Illinois</td>\n",
       "      <td>1964-03-31</td>\n",
       "      <td>0000001800</td>\n",
       "      <td>1888</td>\n",
       "    </tr>\n",
       "    <tr>\n",
       "      <th>3</th>\n",
       "      <td>ABBV</td>\n",
       "      <td>AbbVie</td>\n",
       "      <td>Health Care</td>\n",
       "      <td>Pharmaceuticals</td>\n",
       "      <td>North Chicago, Illinois</td>\n",
       "      <td>2012-12-31</td>\n",
       "      <td>0001551152</td>\n",
       "      <td>2013</td>\n",
       "    </tr>\n",
       "    <tr>\n",
       "      <th>4</th>\n",
       "      <td>ACN</td>\n",
       "      <td>Accenture</td>\n",
       "      <td>Information Technology</td>\n",
       "      <td>IT Consulting &amp; Other Services</td>\n",
       "      <td>Dublin, Ireland</td>\n",
       "      <td>2011-07-06</td>\n",
       "      <td>0001467373</td>\n",
       "      <td>1989</td>\n",
       "    </tr>\n",
       "  </tbody>\n",
       "</table>\n",
       "</div>"
      ],
      "text/plain": [
       "  symbol     security                gics_sec                        gics_sub  \\\n",
       "0    MMM           3M             Industrials        Industrial Conglomerates   \n",
       "1    AOS  A. O. Smith             Industrials               Building Products   \n",
       "2    ABT       Abbott             Health Care           Health Care Equipment   \n",
       "3   ABBV       AbbVie             Health Care                 Pharmaceuticals   \n",
       "4    ACN    Accenture  Information Technology  IT Consulting & Other Services   \n",
       "\n",
       "              headquarters    sp_date         cik  founded  \n",
       "0    Saint Paul, Minnesota 1976-08-09  0000066740     1902  \n",
       "1     Milwaukee, Wisconsin 2017-07-26  0000091142     1916  \n",
       "2  North Chicago, Illinois 1964-03-31  0000001800     1888  \n",
       "3  North Chicago, Illinois 2012-12-31  0001551152     2013  \n",
       "4          Dublin, Ireland 2011-07-06  0001467373     1989  "
      ]
     },
     "execution_count": 24,
     "metadata": {},
     "output_type": "execute_result"
    }
   ],
   "source": [
    "sp_table.head()"
   ]
  },
  {
   "cell_type": "markdown",
   "id": "a97da0a5-7470-4812-9c05-4d915261ab8e",
   "metadata": {},
   "source": [
    "The date the company was added to the S&P 500 was convert to datetime after removing additional dates entered."
   ]
  },
  {
   "cell_type": "markdown",
   "id": "c586f5ab-1a6b-4fe4-87be-bcc517be7a17",
   "metadata": {},
   "source": [
    "## Step 4: Remove duplicates by CIK"
   ]
  },
  {
   "cell_type": "code",
   "execution_count": 25,
   "id": "26909a01-7bd0-4449-8492-b4f892e604a1",
   "metadata": {},
   "outputs": [
    {
     "data": {
      "text/html": [
       "<div>\n",
       "<style scoped>\n",
       "    .dataframe tbody tr th:only-of-type {\n",
       "        vertical-align: middle;\n",
       "    }\n",
       "\n",
       "    .dataframe tbody tr th {\n",
       "        vertical-align: top;\n",
       "    }\n",
       "\n",
       "    .dataframe thead th {\n",
       "        text-align: right;\n",
       "    }\n",
       "</style>\n",
       "<table border=\"1\" class=\"dataframe\">\n",
       "  <thead>\n",
       "    <tr style=\"text-align: right;\">\n",
       "      <th></th>\n",
       "      <th>symbol</th>\n",
       "      <th>security</th>\n",
       "      <th>gics_sec</th>\n",
       "      <th>gics_sub</th>\n",
       "      <th>headquarters</th>\n",
       "      <th>sp_date</th>\n",
       "      <th>cik</th>\n",
       "      <th>founded</th>\n",
       "    </tr>\n",
       "  </thead>\n",
       "  <tbody>\n",
       "    <tr>\n",
       "      <th>23</th>\n",
       "      <td>GOOG</td>\n",
       "      <td>Alphabet Inc. (Class C)</td>\n",
       "      <td>Communication Services</td>\n",
       "      <td>Interactive Media &amp; Services</td>\n",
       "      <td>Mountain View, California</td>\n",
       "      <td>2006-04-03</td>\n",
       "      <td>0001652044</td>\n",
       "      <td>1998</td>\n",
       "    </tr>\n",
       "    <tr>\n",
       "      <th>208</th>\n",
       "      <td>FOX</td>\n",
       "      <td>Fox Corporation (Class B)</td>\n",
       "      <td>Communication Services</td>\n",
       "      <td>Movies &amp; Entertainment</td>\n",
       "      <td>New York City, New York</td>\n",
       "      <td>2015-09-18</td>\n",
       "      <td>0001754301</td>\n",
       "      <td>2019</td>\n",
       "    </tr>\n",
       "    <tr>\n",
       "      <th>337</th>\n",
       "      <td>NWS</td>\n",
       "      <td>News Corp (Class B)</td>\n",
       "      <td>Communication Services</td>\n",
       "      <td>Publishing</td>\n",
       "      <td>New York City, New York</td>\n",
       "      <td>2015-09-18</td>\n",
       "      <td>0001564708</td>\n",
       "      <td>2013</td>\n",
       "    </tr>\n",
       "  </tbody>\n",
       "</table>\n",
       "</div>"
      ],
      "text/plain": [
       "    symbol                   security                gics_sec  \\\n",
       "23    GOOG    Alphabet Inc. (Class C)  Communication Services   \n",
       "208    FOX  Fox Corporation (Class B)  Communication Services   \n",
       "337    NWS        News Corp (Class B)  Communication Services   \n",
       "\n",
       "                         gics_sub               headquarters    sp_date  \\\n",
       "23   Interactive Media & Services  Mountain View, California 2006-04-03   \n",
       "208        Movies & Entertainment    New York City, New York 2015-09-18   \n",
       "337                    Publishing    New York City, New York 2015-09-18   \n",
       "\n",
       "            cik  founded  \n",
       "23   0001652044     1998  \n",
       "208  0001754301     2019  \n",
       "337  0001564708     2013  "
      ]
     },
     "execution_count": 25,
     "metadata": {},
     "output_type": "execute_result"
    }
   ],
   "source": [
    "# Find duplicate rows\n",
    "sp_table[sp_table.duplicated(subset='cik')]"
   ]
  },
  {
   "cell_type": "code",
   "execution_count": 26,
   "id": "df5525c8-7fb4-4e33-a76a-dd98d932644d",
   "metadata": {},
   "outputs": [
    {
     "data": {
      "text/html": [
       "<div>\n",
       "<style scoped>\n",
       "    .dataframe tbody tr th:only-of-type {\n",
       "        vertical-align: middle;\n",
       "    }\n",
       "\n",
       "    .dataframe tbody tr th {\n",
       "        vertical-align: top;\n",
       "    }\n",
       "\n",
       "    .dataframe thead th {\n",
       "        text-align: right;\n",
       "    }\n",
       "</style>\n",
       "<table border=\"1\" class=\"dataframe\">\n",
       "  <thead>\n",
       "    <tr style=\"text-align: right;\">\n",
       "      <th></th>\n",
       "      <th>symbol</th>\n",
       "      <th>security</th>\n",
       "      <th>gics_sec</th>\n",
       "      <th>gics_sub</th>\n",
       "      <th>headquarters</th>\n",
       "      <th>sp_date</th>\n",
       "      <th>cik</th>\n",
       "      <th>founded</th>\n",
       "    </tr>\n",
       "  </thead>\n",
       "  <tbody>\n",
       "    <tr>\n",
       "      <th>22</th>\n",
       "      <td>GOOGL</td>\n",
       "      <td>Alphabet Inc. (Class A)</td>\n",
       "      <td>Communication Services</td>\n",
       "      <td>Interactive Media &amp; Services</td>\n",
       "      <td>Mountain View, California</td>\n",
       "      <td>2014-04-03</td>\n",
       "      <td>0001652044</td>\n",
       "      <td>1998</td>\n",
       "    </tr>\n",
       "    <tr>\n",
       "      <th>207</th>\n",
       "      <td>FOXA</td>\n",
       "      <td>Fox Corporation (Class A)</td>\n",
       "      <td>Communication Services</td>\n",
       "      <td>Movies &amp; Entertainment</td>\n",
       "      <td>New York City, New York</td>\n",
       "      <td>2013-07-01</td>\n",
       "      <td>0001754301</td>\n",
       "      <td>2019</td>\n",
       "    </tr>\n",
       "    <tr>\n",
       "      <th>336</th>\n",
       "      <td>NWSA</td>\n",
       "      <td>News Corp (Class A)</td>\n",
       "      <td>Communication Services</td>\n",
       "      <td>Publishing</td>\n",
       "      <td>New York City, New York</td>\n",
       "      <td>2013-08-01</td>\n",
       "      <td>0001564708</td>\n",
       "      <td>2013</td>\n",
       "    </tr>\n",
       "  </tbody>\n",
       "</table>\n",
       "</div>"
      ],
      "text/plain": [
       "    symbol                   security                gics_sec  \\\n",
       "22   GOOGL    Alphabet Inc. (Class A)  Communication Services   \n",
       "207   FOXA  Fox Corporation (Class A)  Communication Services   \n",
       "336   NWSA        News Corp (Class A)  Communication Services   \n",
       "\n",
       "                         gics_sub               headquarters    sp_date  \\\n",
       "22   Interactive Media & Services  Mountain View, California 2014-04-03   \n",
       "207        Movies & Entertainment    New York City, New York 2013-07-01   \n",
       "336                    Publishing    New York City, New York 2013-08-01   \n",
       "\n",
       "            cik  founded  \n",
       "22   0001652044     1998  \n",
       "207  0001754301     2019  \n",
       "336  0001564708     2013  "
      ]
     },
     "execution_count": 26,
     "metadata": {},
     "output_type": "execute_result"
    }
   ],
   "source": [
    "# Find original rows before duplicate\n",
    "sp_table[sp_table.duplicated(subset='cik', keep ='last')]"
   ]
  },
  {
   "cell_type": "code",
   "execution_count": 27,
   "id": "22d293c7-0d33-44d0-af0a-b42022273eb7",
   "metadata": {},
   "outputs": [],
   "source": [
    "# Drop duplicates\n",
    "# Kept Class A records\n",
    "sp_table.drop_duplicates(subset='cik', inplace=True)"
   ]
  },
  {
   "cell_type": "code",
   "execution_count": 28,
   "id": "52a7a573-127a-4dbc-8422-947aff0d5094",
   "metadata": {},
   "outputs": [],
   "source": [
    "sp_table['cik'] = sp_table['cik'].astype(int)"
   ]
  },
  {
   "cell_type": "markdown",
   "id": "636ad24c-6d33-4e07-9bc0-7427489169c0",
   "metadata": {},
   "source": [
    "Multiple entries for the same company were entered by CIK. I dropped duplicates and kept the first entry for all Class A stock tickers."
   ]
  },
  {
   "cell_type": "markdown",
   "id": "3f207887-8fd3-40fe-80eb-e93f9befa1e7",
   "metadata": {},
   "source": [
    "## Step 5: Split City and State for Headquarters"
   ]
  },
  {
   "cell_type": "code",
   "execution_count": 29,
   "id": "0cc899ce-5b20-4ea5-8aa7-8171fc190fd8",
   "metadata": {},
   "outputs": [],
   "source": [
    "# Seperate city and state/province for headquarters\n",
    "# Use first entry\n",
    "sp_table['hq_city'] = sp_table['headquarters'].str.split(',', expand = True)[0]\n",
    "sp_table['hq_state_prov'] = sp_table['headquarters'].str.split(',', expand = True)[1]"
   ]
  },
  {
   "cell_type": "code",
   "execution_count": 30,
   "id": "6b5df36f-daa4-41b7-b001-78127d937948",
   "metadata": {},
   "outputs": [],
   "source": [
    "# Drop original headquarters\n",
    "sp_table.drop(['headquarters'], axis=1, inplace=True)"
   ]
  },
  {
   "cell_type": "code",
   "execution_count": 31,
   "id": "20beb256-bc7b-487e-a4a5-233955282258",
   "metadata": {},
   "outputs": [
    {
     "data": {
      "text/html": [
       "<div>\n",
       "<style scoped>\n",
       "    .dataframe tbody tr th:only-of-type {\n",
       "        vertical-align: middle;\n",
       "    }\n",
       "\n",
       "    .dataframe tbody tr th {\n",
       "        vertical-align: top;\n",
       "    }\n",
       "\n",
       "    .dataframe thead th {\n",
       "        text-align: right;\n",
       "    }\n",
       "</style>\n",
       "<table border=\"1\" class=\"dataframe\">\n",
       "  <thead>\n",
       "    <tr style=\"text-align: right;\">\n",
       "      <th></th>\n",
       "      <th>symbol</th>\n",
       "      <th>security</th>\n",
       "      <th>gics_sec</th>\n",
       "      <th>gics_sub</th>\n",
       "      <th>sp_date</th>\n",
       "      <th>cik</th>\n",
       "      <th>founded</th>\n",
       "      <th>hq_city</th>\n",
       "      <th>hq_state_prov</th>\n",
       "    </tr>\n",
       "  </thead>\n",
       "  <tbody>\n",
       "    <tr>\n",
       "      <th>0</th>\n",
       "      <td>MMM</td>\n",
       "      <td>3M</td>\n",
       "      <td>Industrials</td>\n",
       "      <td>Industrial Conglomerates</td>\n",
       "      <td>1976-08-09</td>\n",
       "      <td>66740</td>\n",
       "      <td>1902</td>\n",
       "      <td>Saint Paul</td>\n",
       "      <td>Minnesota</td>\n",
       "    </tr>\n",
       "    <tr>\n",
       "      <th>1</th>\n",
       "      <td>AOS</td>\n",
       "      <td>A. O. Smith</td>\n",
       "      <td>Industrials</td>\n",
       "      <td>Building Products</td>\n",
       "      <td>2017-07-26</td>\n",
       "      <td>91142</td>\n",
       "      <td>1916</td>\n",
       "      <td>Milwaukee</td>\n",
       "      <td>Wisconsin</td>\n",
       "    </tr>\n",
       "    <tr>\n",
       "      <th>2</th>\n",
       "      <td>ABT</td>\n",
       "      <td>Abbott</td>\n",
       "      <td>Health Care</td>\n",
       "      <td>Health Care Equipment</td>\n",
       "      <td>1964-03-31</td>\n",
       "      <td>1800</td>\n",
       "      <td>1888</td>\n",
       "      <td>North Chicago</td>\n",
       "      <td>Illinois</td>\n",
       "    </tr>\n",
       "    <tr>\n",
       "      <th>3</th>\n",
       "      <td>ABBV</td>\n",
       "      <td>AbbVie</td>\n",
       "      <td>Health Care</td>\n",
       "      <td>Pharmaceuticals</td>\n",
       "      <td>2012-12-31</td>\n",
       "      <td>1551152</td>\n",
       "      <td>2013</td>\n",
       "      <td>North Chicago</td>\n",
       "      <td>Illinois</td>\n",
       "    </tr>\n",
       "    <tr>\n",
       "      <th>4</th>\n",
       "      <td>ACN</td>\n",
       "      <td>Accenture</td>\n",
       "      <td>Information Technology</td>\n",
       "      <td>IT Consulting &amp; Other Services</td>\n",
       "      <td>2011-07-06</td>\n",
       "      <td>1467373</td>\n",
       "      <td>1989</td>\n",
       "      <td>Dublin</td>\n",
       "      <td>Ireland</td>\n",
       "    </tr>\n",
       "  </tbody>\n",
       "</table>\n",
       "</div>"
      ],
      "text/plain": [
       "  symbol     security                gics_sec                        gics_sub  \\\n",
       "0    MMM           3M             Industrials        Industrial Conglomerates   \n",
       "1    AOS  A. O. Smith             Industrials               Building Products   \n",
       "2    ABT       Abbott             Health Care           Health Care Equipment   \n",
       "3   ABBV       AbbVie             Health Care                 Pharmaceuticals   \n",
       "4    ACN    Accenture  Information Technology  IT Consulting & Other Services   \n",
       "\n",
       "     sp_date      cik  founded        hq_city hq_state_prov  \n",
       "0 1976-08-09    66740     1902     Saint Paul     Minnesota  \n",
       "1 2017-07-26    91142     1916      Milwaukee     Wisconsin  \n",
       "2 1964-03-31     1800     1888  North Chicago      Illinois  \n",
       "3 2012-12-31  1551152     2013  North Chicago      Illinois  \n",
       "4 2011-07-06  1467373     1989         Dublin       Ireland  "
      ]
     },
     "execution_count": 31,
     "metadata": {},
     "output_type": "execute_result"
    }
   ],
   "source": [
    "sp_table.head()"
   ]
  },
  {
   "cell_type": "markdown",
   "id": "9415f42c-d0e1-4903-8d2e-3b114ec3db0c",
   "metadata": {},
   "source": [
    "In step 5, I split the headquarters from the city/location and the state/province into new columns and dropped the original."
   ]
  },
  {
   "cell_type": "markdown",
   "id": "6b3e5950-055b-42db-953c-f4cf00b14156",
   "metadata": {},
   "source": [
    "## Step 6: Check for Outliers"
   ]
  },
  {
   "cell_type": "code",
   "execution_count": 32,
   "id": "0ed45c2c-5db1-4508-92db-67155dfe5bb9",
   "metadata": {},
   "outputs": [
    {
     "data": {
      "text/plain": [
       "count                              456\n",
       "mean     2001-06-12 08:47:22.105263104\n",
       "min                1957-03-04 00:00:00\n",
       "25%                1989-04-07 18:00:00\n",
       "50%                2008-08-10 12:00:00\n",
       "75%                2016-09-06 12:00:00\n",
       "max                2023-01-04 00:00:00\n",
       "Name: sp_date, dtype: object"
      ]
     },
     "execution_count": 32,
     "metadata": {},
     "output_type": "execute_result"
    }
   ],
   "source": [
    "# Check date ranges of date added\n",
    "sp_table['sp_date'].describe(datetime_is_numeric=True)"
   ]
  },
  {
   "cell_type": "code",
   "execution_count": 33,
   "id": "b87c103c-297b-4540-8aac-e0c925f0f002",
   "metadata": {},
   "outputs": [
    {
     "data": {
      "text/html": [
       "<div>\n",
       "<style scoped>\n",
       "    .dataframe tbody tr th:only-of-type {\n",
       "        vertical-align: middle;\n",
       "    }\n",
       "\n",
       "    .dataframe tbody tr th {\n",
       "        vertical-align: top;\n",
       "    }\n",
       "\n",
       "    .dataframe thead th {\n",
       "        text-align: right;\n",
       "    }\n",
       "</style>\n",
       "<table border=\"1\" class=\"dataframe\">\n",
       "  <thead>\n",
       "    <tr style=\"text-align: right;\">\n",
       "      <th></th>\n",
       "      <th>cik</th>\n",
       "      <th>founded</th>\n",
       "    </tr>\n",
       "  </thead>\n",
       "  <tbody>\n",
       "    <tr>\n",
       "      <th>count</th>\n",
       "      <td>5.000000e+02</td>\n",
       "      <td>500.000000</td>\n",
       "    </tr>\n",
       "    <tr>\n",
       "      <th>mean</th>\n",
       "      <td>7.888731e+05</td>\n",
       "      <td>1954.786000</td>\n",
       "    </tr>\n",
       "    <tr>\n",
       "      <th>std</th>\n",
       "      <td>5.521311e+05</td>\n",
       "      <td>48.488085</td>\n",
       "    </tr>\n",
       "    <tr>\n",
       "      <th>min</th>\n",
       "      <td>1.800000e+03</td>\n",
       "      <td>1784.000000</td>\n",
       "    </tr>\n",
       "    <tr>\n",
       "      <th>25%</th>\n",
       "      <td>9.740950e+04</td>\n",
       "      <td>1919.000000</td>\n",
       "    </tr>\n",
       "    <tr>\n",
       "      <th>50%</th>\n",
       "      <td>8.830380e+05</td>\n",
       "      <td>1969.500000</td>\n",
       "    </tr>\n",
       "    <tr>\n",
       "      <th>75%</th>\n",
       "      <td>1.137113e+06</td>\n",
       "      <td>1993.000000</td>\n",
       "    </tr>\n",
       "    <tr>\n",
       "      <th>max</th>\n",
       "      <td>1.932393e+06</td>\n",
       "      <td>2022.000000</td>\n",
       "    </tr>\n",
       "  </tbody>\n",
       "</table>\n",
       "</div>"
      ],
      "text/plain": [
       "                cik      founded\n",
       "count  5.000000e+02   500.000000\n",
       "mean   7.888731e+05  1954.786000\n",
       "std    5.521311e+05    48.488085\n",
       "min    1.800000e+03  1784.000000\n",
       "25%    9.740950e+04  1919.000000\n",
       "50%    8.830380e+05  1969.500000\n",
       "75%    1.137113e+06  1993.000000\n",
       "max    1.932393e+06  2022.000000"
      ]
     },
     "execution_count": 33,
     "metadata": {},
     "output_type": "execute_result"
    }
   ],
   "source": [
    "# Check CIK and Founded\n",
    "sp_table.describe()"
   ]
  },
  {
   "cell_type": "markdown",
   "id": "49740019-79d3-4b8c-b0f1-cd0ea14856c4",
   "metadata": {},
   "source": [
    "In step 6, I describe numeric and datetime fields to determine if there appeared to be any signficant outliers."
   ]
  },
  {
   "cell_type": "markdown",
   "id": "c5fca2ed-0523-41ca-a995-dde4fce10f9c",
   "metadata": {},
   "source": [
    "# Summary"
   ]
  },
  {
   "cell_type": "code",
   "execution_count": 34,
   "id": "fb7082d9-3dff-4179-8a90-aa18cb2f5ed5",
   "metadata": {},
   "outputs": [
    {
     "data": {
      "text/html": [
       "<div>\n",
       "<style scoped>\n",
       "    .dataframe tbody tr th:only-of-type {\n",
       "        vertical-align: middle;\n",
       "    }\n",
       "\n",
       "    .dataframe tbody tr th {\n",
       "        vertical-align: top;\n",
       "    }\n",
       "\n",
       "    .dataframe thead th {\n",
       "        text-align: right;\n",
       "    }\n",
       "</style>\n",
       "<table border=\"1\" class=\"dataframe\">\n",
       "  <thead>\n",
       "    <tr style=\"text-align: right;\">\n",
       "      <th></th>\n",
       "      <th>symbol</th>\n",
       "      <th>security</th>\n",
       "      <th>gics_sec</th>\n",
       "      <th>gics_sub</th>\n",
       "      <th>sp_date</th>\n",
       "      <th>cik</th>\n",
       "      <th>founded</th>\n",
       "      <th>hq_city</th>\n",
       "      <th>hq_state_prov</th>\n",
       "    </tr>\n",
       "  </thead>\n",
       "  <tbody>\n",
       "    <tr>\n",
       "      <th>0</th>\n",
       "      <td>MMM</td>\n",
       "      <td>3M</td>\n",
       "      <td>Industrials</td>\n",
       "      <td>Industrial Conglomerates</td>\n",
       "      <td>1976-08-09</td>\n",
       "      <td>66740</td>\n",
       "      <td>1902</td>\n",
       "      <td>Saint Paul</td>\n",
       "      <td>Minnesota</td>\n",
       "    </tr>\n",
       "    <tr>\n",
       "      <th>1</th>\n",
       "      <td>AOS</td>\n",
       "      <td>A. O. Smith</td>\n",
       "      <td>Industrials</td>\n",
       "      <td>Building Products</td>\n",
       "      <td>2017-07-26</td>\n",
       "      <td>91142</td>\n",
       "      <td>1916</td>\n",
       "      <td>Milwaukee</td>\n",
       "      <td>Wisconsin</td>\n",
       "    </tr>\n",
       "    <tr>\n",
       "      <th>2</th>\n",
       "      <td>ABT</td>\n",
       "      <td>Abbott</td>\n",
       "      <td>Health Care</td>\n",
       "      <td>Health Care Equipment</td>\n",
       "      <td>1964-03-31</td>\n",
       "      <td>1800</td>\n",
       "      <td>1888</td>\n",
       "      <td>North Chicago</td>\n",
       "      <td>Illinois</td>\n",
       "    </tr>\n",
       "    <tr>\n",
       "      <th>3</th>\n",
       "      <td>ABBV</td>\n",
       "      <td>AbbVie</td>\n",
       "      <td>Health Care</td>\n",
       "      <td>Pharmaceuticals</td>\n",
       "      <td>2012-12-31</td>\n",
       "      <td>1551152</td>\n",
       "      <td>2013</td>\n",
       "      <td>North Chicago</td>\n",
       "      <td>Illinois</td>\n",
       "    </tr>\n",
       "    <tr>\n",
       "      <th>4</th>\n",
       "      <td>ACN</td>\n",
       "      <td>Accenture</td>\n",
       "      <td>Information Technology</td>\n",
       "      <td>IT Consulting &amp; Other Services</td>\n",
       "      <td>2011-07-06</td>\n",
       "      <td>1467373</td>\n",
       "      <td>1989</td>\n",
       "      <td>Dublin</td>\n",
       "      <td>Ireland</td>\n",
       "    </tr>\n",
       "  </tbody>\n",
       "</table>\n",
       "</div>"
      ],
      "text/plain": [
       "  symbol     security                gics_sec                        gics_sub  \\\n",
       "0    MMM           3M             Industrials        Industrial Conglomerates   \n",
       "1    AOS  A. O. Smith             Industrials               Building Products   \n",
       "2    ABT       Abbott             Health Care           Health Care Equipment   \n",
       "3   ABBV       AbbVie             Health Care                 Pharmaceuticals   \n",
       "4    ACN    Accenture  Information Technology  IT Consulting & Other Services   \n",
       "\n",
       "     sp_date      cik  founded        hq_city hq_state_prov  \n",
       "0 1976-08-09    66740     1902     Saint Paul     Minnesota  \n",
       "1 2017-07-26    91142     1916      Milwaukee     Wisconsin  \n",
       "2 1964-03-31     1800     1888  North Chicago      Illinois  \n",
       "3 2012-12-31  1551152     2013  North Chicago      Illinois  \n",
       "4 2011-07-06  1467373     1989         Dublin       Ireland  "
      ]
     },
     "execution_count": 34,
     "metadata": {},
     "output_type": "execute_result"
    }
   ],
   "source": [
    "sp_table.head()"
   ]
  },
  {
   "cell_type": "markdown",
   "id": "998ef24f-fbfe-40af-b7e9-0dd7b72d1df5",
   "metadata": {},
   "source": [
    "The S&P 500 company was sourced by a open page on wikipedia in reference to the list by S&P Dow Jones Indicies. Modfifications can be made at any time and may not contain the most up to date information. For the purposes of this data analysis, I took the first value for multiple columns to be the date or value to be stored. This should be the most up to date while the second value could be additional locations or times that a company was previously founded. Companies listed may not have a headquarters in the United States such as Accenture that is located in Ireland. The main ethical complications come from the source and that the first entered record was taken in as the source for the purposes of this analysis."
   ]
  }
 ],
 "metadata": {
  "kernelspec": {
   "display_name": "Python 3 (ipykernel)",
   "language": "python",
   "name": "python3"
  },
  "language_info": {
   "codemirror_mode": {
    "name": "ipython",
    "version": 3
   },
   "file_extension": ".py",
   "mimetype": "text/x-python",
   "name": "python",
   "nbconvert_exporter": "python",
   "pygments_lexer": "ipython3",
   "version": "3.9.13"
  }
 },
 "nbformat": 4,
 "nbformat_minor": 5
}
